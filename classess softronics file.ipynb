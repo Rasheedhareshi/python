{
 "cells": [
  {
   "cell_type": "markdown",
   "id": "12ab6804",
   "metadata": {},
   "source": [
    "# file (softronics cllas work)\n"
   ]
  },
  {
   "cell_type": "code",
   "execution_count": 3,
   "id": "56a32b7f",
   "metadata": {},
   "outputs": [
    {
     "name": "stdout",
     "output_type": "stream",
     "text": [
      "C:\\Users\\rashe\n"
     ]
    }
   ],
   "source": [
    "import os\n",
    "current_directory = os.getcwd()#store current working directory\n",
    "print(current_directory)"
   ]
  },
  {
   "cell_type": "code",
   "execution_count": 4,
   "id": "bc8b3110",
   "metadata": {},
   "outputs": [
    {
     "name": "stdout",
     "output_type": "stream",
     "text": [
      "c:\\users\n"
     ]
    }
   ],
   "source": [
    "os.chdir('c:\\\\users')\n",
    "print(os.getcwd())"
   ]
  },
  {
   "cell_type": "code",
   "execution_count": 5,
   "id": "49f51817",
   "metadata": {},
   "outputs": [
    {
     "name": "stdout",
     "output_type": "stream",
     "text": [
      "C:\\Users\\rashe\n"
     ]
    }
   ],
   "source": [
    "os.chdir(current_directory)\n",
    "print(os.getcwd())"
   ]
  },
  {
   "cell_type": "code",
   "execution_count": 6,
   "id": "9ccacefb",
   "metadata": {},
   "outputs": [],
   "source": [
    "os.makedirs('folder1\\\\subfolder1') #create directory"
   ]
  },
  {
   "cell_type": "code",
   "execution_count": 7,
   "id": "2496d846",
   "metadata": {},
   "outputs": [],
   "source": [
    "os.chdir('folder1\\\\subfolder1') #change current directory"
   ]
  },
  {
   "cell_type": "code",
   "execution_count": 8,
   "id": "5a1ddcbc",
   "metadata": {},
   "outputs": [
    {
     "name": "stdout",
     "output_type": "stream",
     "text": [
      "C:\\Users\\rashe\\folder1\\subfolder1\n"
     ]
    }
   ],
   "source": [
    "print(os.getcwd())"
   ]
  },
  {
   "cell_type": "code",
   "execution_count": 11,
   "id": "5d6f5350",
   "metadata": {},
   "outputs": [
    {
     "name": "stdout",
     "output_type": "stream",
     "text": [
      "C:\\Users\n"
     ]
    }
   ],
   "source": [
    "os.chdir('..')#goto parant dir\n",
    "print(os.getcwd())"
   ]
  },
  {
   "cell_type": "code",
   "execution_count": 12,
   "id": "22b7a7ba",
   "metadata": {},
   "outputs": [
    {
     "ename": "AttributeError",
     "evalue": "module 'os' has no attribute 'removeirs'",
     "output_type": "error",
     "traceback": [
      "\u001b[1;31m---------------------------------------------------------------------------\u001b[0m",
      "\u001b[1;31mAttributeError\u001b[0m                            Traceback (most recent call last)",
      "Cell \u001b[1;32mIn[12], line 1\u001b[0m\n\u001b[1;32m----> 1\u001b[0m os\u001b[38;5;241m.\u001b[39mremoveirs(\u001b[38;5;124m'\u001b[39m\u001b[38;5;124mfolder1\u001b[39m\u001b[38;5;130;01m\\\\\u001b[39;00m\u001b[38;5;124msubfolder1\u001b[39m\u001b[38;5;124m'\u001b[39m)\n",
      "\u001b[1;31mAttributeError\u001b[0m: module 'os' has no attribute 'removeirs'"
     ]
    }
   ],
   "source": [
    "os.removeirs('folder1\\\\subfolder1')"
   ]
  },
  {
   "cell_type": "code",
   "execution_count": 13,
   "id": "f485e0e9",
   "metadata": {},
   "outputs": [
    {
     "name": "stdout",
     "output_type": "stream",
     "text": [
      "C:\\Users\n"
     ]
    }
   ],
   "source": [
    "import os\n",
    "cwd = os.getcwd()\n",
    "print(cwd)"
   ]
  },
  {
   "cell_type": "code",
   "execution_count": 15,
   "id": "cf3d7935",
   "metadata": {},
   "outputs": [
    {
     "name": "stdout",
     "output_type": "stream",
     "text": [
      "C:\\Users\\ex\\w2\n"
     ]
    }
   ],
   "source": [
    "path = os.path.join(cwd, 'ex', 'w2')\n",
    "print(path)"
   ]
  },
  {
   "cell_type": "code",
   "execution_count": 16,
   "id": "1d92cd4e",
   "metadata": {},
   "outputs": [
    {
     "name": "stdout",
     "output_type": "stream",
     "text": [
      "All Users\n",
      "Default\n",
      "Default User\n",
      "defaultuser100000\n",
      "desktop.ini\n",
      "Public\n",
      "rashe\n"
     ]
    }
   ],
   "source": [
    "#listing directories\n",
    "files = os.listdir(cwd)\n",
    "for x in files:\n",
    "    print(x)"
   ]
  },
  {
   "cell_type": "code",
   "execution_count": 18,
   "id": "0a727f2a",
   "metadata": {},
   "outputs": [
    {
     "name": "stdout",
     "output_type": "stream",
     "text": [
      "file does not exists\n"
     ]
    }
   ],
   "source": [
    "#check or specific file\n",
    "\n",
    "file = 'todo.txt'\n",
    "if os.path.exists(file):\n",
    "    print(\"file exists\")\n",
    "else:\n",
    "        print(\"file does not exists\")"
   ]
  },
  {
   "cell_type": "code",
   "execution_count": 21,
   "id": "67579689",
   "metadata": {},
   "outputs": [
    {
     "name": "stdout",
     "output_type": "stream",
     "text": [
      "it is a directory\n"
     ]
    }
   ],
   "source": [
    "#checking file or diectory\n",
    "\n",
    "path = 'rashe'\n",
    "if os.path.isfile(path):\n",
    "        print(\"it is a file\")\n",
    "elif os.path.isdir(path):\n",
    "        print(\"it is a directory\")\n",
    "else:\n",
    "         print(\"neither path or diectory\")"
   ]
  },
  {
   "cell_type": "code",
   "execution_count": 4,
   "id": "ea7f8ce3",
   "metadata": {},
   "outputs": [
    {
     "data": {
      "text/plain": [
       "<function TextIOWrapper.close()>"
      ]
     },
     "execution_count": 4,
     "metadata": {},
     "output_type": "execute_result"
    }
   ],
   "source": [
    "#creating file\n",
    "\n",
    "file_name = \"sample.txt\"\n",
    "with open(file_name, 'w') as f:\n",
    "    f.write(\"this is the firstline\")\n",
    "f.close"
   ]
  },
  {
   "cell_type": "code",
   "execution_count": 5,
   "id": "f044db57",
   "metadata": {},
   "outputs": [],
   "source": [
    "with open(\"sample.txt\", 'a') as fh:\n",
    "    fh.write(\"helo\\n\")\n",
    "    fh.write(\"how are you\")"
   ]
  },
  {
   "cell_type": "code",
   "execution_count": 1,
   "id": "56e8e888",
   "metadata": {},
   "outputs": [
    {
     "name": "stdout",
     "output_type": "stream",
     "text": [
      "this is the firstlinehelo\n",
      "how are you\n",
      "<class 'str'>\n"
     ]
    },
    {
     "data": {
      "text/plain": [
       "<function TextIOWrapper.close()>"
      ]
     },
     "execution_count": 1,
     "metadata": {},
     "output_type": "execute_result"
    }
   ],
   "source": [
    "import os\n",
    "file_path = os.path.join('sample.txt')\n",
    "\n",
    "f = open(file_path, 'r')\n",
    "items = f.read()\n",
    "print(items)\n",
    "print(type(items))\n",
    "f.close"
   ]
  },
  {
   "cell_type": "code",
   "execution_count": 2,
   "id": "a0542b07",
   "metadata": {},
   "outputs": [
    {
     "name": "stdout",
     "output_type": "stream",
     "text": [
      "['this is the firstlinehelo\\n', 'how are you']\n",
      "<class 'list'>\n"
     ]
    },
    {
     "data": {
      "text/plain": [
       "<function TextIOWrapper.close()>"
      ]
     },
     "execution_count": 2,
     "metadata": {},
     "output_type": "execute_result"
    }
   ],
   "source": [
    "import os\n",
    "file_path = os.path.join('sample.txt')\n",
    "\n",
    "f = open(file_path, 'r')\n",
    "items = f.readlines()\n",
    "print(items)\n",
    "print(type(items))\n",
    "f.close"
   ]
  },
  {
   "cell_type": "code",
   "execution_count": null,
   "id": "cab07675",
   "metadata": {},
   "outputs": [],
   "source": []
  }
 ],
 "metadata": {
  "kernelspec": {
   "display_name": "Python 3 (ipykernel)",
   "language": "python",
   "name": "python3"
  },
  "language_info": {
   "codemirror_mode": {
    "name": "ipython",
    "version": 3
   },
   "file_extension": ".py",
   "mimetype": "text/x-python",
   "name": "python",
   "nbconvert_exporter": "python",
   "pygments_lexer": "ipython3",
   "version": "3.11.5"
  }
 },
 "nbformat": 4,
 "nbformat_minor": 5
}
