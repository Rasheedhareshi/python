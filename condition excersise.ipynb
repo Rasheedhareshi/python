{
 "cells": [
  {
   "cell_type": "code",
   "execution_count": 7,
   "id": "a2863f26",
   "metadata": {},
   "outputs": [
    {
     "name": "stdout",
     "output_type": "stream",
     "text": [
      "enter a intiger:4\n",
      "it is positive\n"
     ]
    }
   ],
   "source": [
    "#1 -question\n",
    "\n",
    "intiger = int(input(\"enter a intiger:\"))\n",
    "\n",
    "if intiger > 0:\n",
    "    print(\"it is positive\")\n",
    "elif intiger < 0:\n",
    "    print(\"it is negative\")\n",
    "else:\n",
    "    print(\"it is zero\")"
   ]
  },
  {
   "cell_type": "code",
   "execution_count": 18,
   "id": "3a3dc823",
   "metadata": {},
   "outputs": [
    {
     "name": "stdout",
     "output_type": "stream",
     "text": [
      "enter the score:60\n",
      "B grade\n"
     ]
    }
   ],
   "source": [
    "#2 question\n",
    "\n",
    "Student_score = int(input(\"enter the score:\"))\n",
    "\n",
    "if Student_score > 90:\n",
    "    print(\"A grade\")\n",
    "elif Student_score < 89:\n",
    "    print(\"B grade\")\n",
    "elif Student_score < 79:\n",
    "    print(\"C grade\")\n",
    "elif Student_score < 69:\n",
    "    print(\"D grade\")\n",
    "else:\n",
    "    print(\"failed\")"
   ]
  },
  {
   "cell_type": "code",
   "execution_count": 25,
   "id": "0fa516f6",
   "metadata": {},
   "outputs": [
    {
     "name": "stdout",
     "output_type": "stream",
     "text": [
      "enter the age of a person:59\n",
      "teenager\n"
     ]
    }
   ],
   "source": [
    "#8 question.\n",
    "\n",
    "age = int(input(\"enter the age of a person:\"))\n",
    "\n",
    "if age < 19:\n",
    "    print(\"child\")\n",
    "elif age < 60:\n",
    "    print(\"teenager\")\n",
    "elif age >= 60:\n",
    "    print(\"senior\")\n"
   ]
  },
  {
   "cell_type": "code",
   "execution_count": 42,
   "id": "17000dcd",
   "metadata": {},
   "outputs": [
    {
     "name": "stdout",
     "output_type": "stream",
     "text": [
      "enter the integer:4\n",
      "enter the integer6\n",
      "enter the integer5\n",
      "the largest number is : 6\n"
     ]
    }
   ],
   "source": [
    "#9 question\n",
    "\n",
    "number = int(input(\"enter the integer:\"))\n",
    "\n",
    "for x in range(2):\n",
    "    new_number = int(input(\"enter the integer\"))\n",
    "    if x > largest:\n",
    "        largest = number\n",
    "\n",
    "print(\"the largest number is :\",largest)"
   ]
  },
  {
   "cell_type": "code",
   "execution_count": 4,
   "id": "89347c53",
   "metadata": {},
   "outputs": [
    {
     "name": "stdout",
     "output_type": "stream",
     "text": [
      "enter the  side:5\n",
      "enter the  side:4\n",
      "enter the side:10\n",
      "invalid\n"
     ]
    }
   ],
   "source": [
    "#10 question\n",
    "\n",
    "def valid_triangle(side1, side2, side3):\n",
    "    if side1 + side2 > side3 and  side1 + side2 > side3 and  side1 + side2 > side3:\n",
    "        return True\n",
    "    else:\n",
    "        return False\n",
    "\n",
    "side1 = int(input(\"enter the  side:\"))\n",
    "side2 = int(input(\"enter the  side:\"))\n",
    "side3 = int(input(\"enter the side:\"))\n",
    "\n",
    "if valid_triangle(side1, side2, side3):\n",
    "    print(\"valid\")\n",
    "else:\n",
    "    print(\"invalid\")\n",
    "        \n",
    "        \n",
    "       \n",
    "    "
   ]
  },
  {
   "cell_type": "code",
   "execution_count": null,
   "id": "81e2e0c7",
   "metadata": {},
   "outputs": [],
   "source": [
    "#11 question\n",
    "\n",
    "def convert_12hour_format(24hour_format):\n",
    "     \n",
    "        if hours < 12:\n",
    "            print(\"AM\")\n",
    "        else:\n",
    "            print(\"PM\")\n",
    "            "
   ]
  },
  {
   "cell_type": "code",
   "execution_count": 12,
   "id": "e884859f",
   "metadata": {},
   "outputs": [
    {
     "ename": "SyntaxError",
     "evalue": "invalid syntax (3950744869.py, line 11)",
     "output_type": "error",
     "traceback": [
      "\u001b[1;36m  Cell \u001b[1;32mIn[12], line 11\u001b[1;36m\u001b[0m\n\u001b[1;33m    elif:\u001b[0m\n\u001b[1;37m        ^\u001b[0m\n\u001b[1;31mSyntaxError\u001b[0m\u001b[1;31m:\u001b[0m invalid syntax\n"
     ]
    }
   ],
   "source": [
    "#12 question\n",
    "character = input(\"enter a character:\")\n",
    "\n",
    "def check_character(char):\n",
    "    vowels = ['a', 'e', 'i','o', 'u']\n",
    "   \n",
    "    char = char.lower()\n",
    "       \n",
    "    if char in vowels:\n",
    "        print(\"vowels\")\n",
    "    elif:\n",
    "        print(\"constant\")\n",
    "    else:\n",
    "        print(\"neither\")\n",
    "        \n",
    "print(\"charcter type:\", check_character(character))        "
   ]
  },
  {
   "cell_type": "code",
   "execution_count": null,
   "id": "0cd497bc",
   "metadata": {},
   "outputs": [],
   "source": []
  }
 ],
 "metadata": {
  "kernelspec": {
   "display_name": "Python 3 (ipykernel)",
   "language": "python",
   "name": "python3"
  },
  "language_info": {
   "codemirror_mode": {
    "name": "ipython",
    "version": 3
   },
   "file_extension": ".py",
   "mimetype": "text/x-python",
   "name": "python",
   "nbconvert_exporter": "python",
   "pygments_lexer": "ipython3",
   "version": "3.11.5"
  }
 },
 "nbformat": 4,
 "nbformat_minor": 5
}
