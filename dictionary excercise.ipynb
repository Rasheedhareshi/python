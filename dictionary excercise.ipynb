{
 "cells": [
  {
   "cell_type": "code",
   "execution_count": 9,
   "id": "34e3bbc3",
   "metadata": {},
   "outputs": [
    {
     "name": "stdout",
     "output_type": "stream",
     "text": [
      "dict_items([('a', 2), ('B', 6), ('c', 8), ('d', 7), ('e', 10)])\n",
      "dict_items([('a', 4), ('b', 9), ('e', 10), ('c', 5), ('d', 3)])\n",
      "intersection: {}\n"
     ]
    }
   ],
   "source": [
    "#intersection in dictionaries.\n",
    "#question 8\n",
    "dict1 = {\"a\": 2,\"B\": 6,\"c\": 8,\"d\": 7,\"e\":10}\n",
    "dict2 = {\"a\": 4,\"b\": 9,\"e\": 10,\"c\": 5,\"d\": 3}\n",
    "x = dict1.items()\n",
    "y = dict2.items()\n",
    "print(x)\n",
    "print(y)\n",
    "intersection = {key: dict1[key] for key in dict1 if key in dict2 and dict1 == dict2}\n",
    "print(\"intersection:\",intersection)"
   ]
  },
  {
   "cell_type": "code",
   "execution_count": 4,
   "id": "5849475e",
   "metadata": {},
   "outputs": [
    {
     "name": "stdout",
     "output_type": "stream",
     "text": [
      "asenting order: {'hasna': 3, 'rashi': 6, 'shahna': 7}\n",
      "decenting order: {'shahna': 7, 'rashi': 6, 'hasna': 3}\n"
     ]
    }
   ],
   "source": [
    "#dictionaries exersice\n",
    "#acending and decenting order.\n",
    "#question 1\n",
    "mydict = {\"hasna\": 3, \"shahna\": 7,  \"rashi\":6}\n",
    "sorted_dict_asent = dict(sorted(mydict.items()))\n",
    "sorted_dict_decent = dict(sorted(mydict.items() , reverse=True))\n",
    "print(\"asenting order:\", sorted_dict_asent)\n",
    "print(\"decenting order:\", sorted_dict_decent)"
   ]
  },
  {
   "cell_type": "code",
   "execution_count": 11,
   "id": "10ac4c23",
   "metadata": {},
   "outputs": [
    {
     "name": "stdout",
     "output_type": "stream",
     "text": [
      "enter the name:rashi\n",
      "enter the age:25\n",
      "name age dictionary: {'rashi': '25'}\n",
      "enter the name:izza\n",
      "enter the age:2\n",
      "name age dictionary: {'rashi': '25', 'izza': '2'}\n",
      "enter the name:ilyas\n",
      "enter the age:34\n",
      "name age dictionary: {'rashi': '25', 'izza': '2', 'ilyas': '34'}\n"
     ]
    }
   ],
   "source": [
    "#question 5\n",
    "name_age_dict = {}\n",
    "for i in range(3):\n",
    "    name = input(\"enter the name:\")\n",
    "    age = input(\"enter the age:\")\n",
    "    name_age_dict[name] = age\n",
    "    print(\"name age dictionary:\",name_age_dict)\n",
    "        "
   ]
  },
  {
   "cell_type": "code",
   "execution_count": 9,
   "id": "3c0d4cb8",
   "metadata": {},
   "outputs": [],
   "source": [
    "#question 2 check the key already exist\n",
    "\n",
    "my_dict = {\"apple\", \"banana\", \"cherry\", \"orange\"}\n",
    "def check_key_exist(key,dict):\n",
    "    if key in dict:\n",
    "        return True\n",
    "    else:\n",
    "        return False\n",
    "    \n",
    "    key_to_check = input(\"enter a key to check\")\n",
    "    check_key_exist = check_key_exist(key_to_check , my_dict)\n",
    "    if key_exist:\n",
    "        print(\"key already exist\")\n",
    "    else:\n",
    "        print(\"key does not exist\")\n",
    "    "
   ]
  },
  {
   "cell_type": "code",
   "execution_count": 16,
   "id": "5edd5f4b",
   "metadata": {},
   "outputs": [
    {
     "name": "stdout",
     "output_type": "stream",
     "text": [
      "{1: 1, 2: 4, 3: 9, 4: 16, 5: 25}\n"
     ]
    }
   ],
   "source": [
    "#question 3\n",
    "def generate_square_dict(n):\n",
    "    square_dict = {}\n",
    "    for x in range(1, n+1):\n",
    "        square_dict[x] = x*x\n",
    "    return square_dict\n",
    "n = 5\n",
    "square_dict = generate_square_dict(n)\n",
    "print(square_dict)"
   ]
  },
  {
   "cell_type": "code",
   "execution_count": 1,
   "id": "0c999694",
   "metadata": {},
   "outputs": [
    {
     "name": "stdout",
     "output_type": "stream",
     "text": [
      "max value is: 52\n",
      "min value is: 1\n"
     ]
    }
   ],
   "source": [
    "#4- question\n",
    "my_dict = {1,52,5,37,45,8,10}\n",
    "x = max(my_dict)\n",
    "y = min(my_dict)\n",
    "print(\"max value is:\", x)\n",
    "print(\"min value is:\", y)"
   ]
  },
  {
   "cell_type": "code",
   "execution_count": 14,
   "id": "a9463c9d",
   "metadata": {},
   "outputs": [
    {
     "name": "stdout",
     "output_type": "stream",
     "text": [
      "None\n"
     ]
    }
   ],
   "source": [
    "#6 question\n",
    "\n",
    "my_dict = {\"apple\", \"banana\", \"cherry\", \"kiwi\"}\n",
    "def words_length(words):\n",
    "    word_dict = {}\n",
    "    for word in words:\n",
    "        length = len(my_dict)\n",
    "\n",
    "result = word_length(my_dict)\n",
    "print(result)"
   ]
  },
  {
   "cell_type": "code",
   "execution_count": 21,
   "id": "8013c99e",
   "metadata": {},
   "outputs": [
    {
     "name": "stdout",
     "output_type": "stream",
     "text": [
      "{(1, 2): 3, (3, 4): 7, (5, 6): 11}\n"
     ]
    }
   ],
   "source": [
    "def create_sum_dictionary(numbers):\n",
    "    sum_dict = {}\n",
    "    for pair in numbers:\n",
    "        if len(pair) != 2:\n",
    "            print(\"Error: Each pair must contain exactly two numbers.\")\n",
    "            return None\n",
    "        key = tuple(pair)\n",
    "        value = sum(pair)\n",
    "        sum_dict[key] = value\n",
    "    return sum_dict\n",
    "\n",
    "# Example usage:\n",
    "pairs = [(1, 2), (3, 4), (5, 6)]\n",
    "result = create_sum_dictionary(pairs)\n",
    "print(result)\n",
    "\n"
   ]
  },
  {
   "cell_type": "code",
   "execution_count": null,
   "id": "209142f8",
   "metadata": {},
   "outputs": [],
   "source": []
  },
  {
   "cell_type": "code",
   "execution_count": null,
   "id": "c9c6e2ed",
   "metadata": {},
   "outputs": [],
   "source": []
  }
 ],
 "metadata": {
  "kernelspec": {
   "display_name": "Python 3 (ipykernel)",
   "language": "python",
   "name": "python3"
  },
  "language_info": {
   "codemirror_mode": {
    "name": "ipython",
    "version": 3
   },
   "file_extension": ".py",
   "mimetype": "text/x-python",
   "name": "python",
   "nbconvert_exporter": "python",
   "pygments_lexer": "ipython3",
   "version": "3.11.5"
  }
 },
 "nbformat": 4,
 "nbformat_minor": 5
}
