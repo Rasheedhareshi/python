{
 "cells": [
  {
   "cell_type": "code",
   "execution_count": null,
   "id": "84260451",
   "metadata": {},
   "outputs": [],
   "source": [
    "def divide(number,divisor):\n",
    "    print('starting calculation')\n",
    "    result = number/divisor\n",
    "    print(number, '/', divisor, '=', result)\n",
    "    print('calculation over!...........')\n",
    "\n",
    "#divide(50,5)    \n",
    "divide(3,0)    "
   ]
  },
  {
   "cell_type": "code",
   "execution_count": null,
   "id": "b00e43b4",
   "metadata": {},
   "outputs": [],
   "source": []
  },
  {
   "cell_type": "markdown",
   "id": "32d9077c",
   "metadata": {},
   "source": [
    "# try except\n"
   ]
  },
  {
   "cell_type": "code",
   "execution_count": 4,
   "id": "c3985729",
   "metadata": {},
   "outputs": [
    {
     "name": "stdout",
     "output_type": "stream",
     "text": [
      "starting calculation\n",
      "cannot divide by zero\n",
      "calculation over!...........\n",
      "starting calculation\n",
      "3 / 1.5 = 2.0\n",
      "calculation over!...........\n"
     ]
    }
   ],
   "source": [
    "def divide(number,divisor):\n",
    "    print('starting calculation')\n",
    "    try:\n",
    "        \n",
    "        result = number/divisor\n",
    "        print(number, '/', divisor, '=', result)\n",
    "    except ZeroDivisionError:\n",
    "        print('cannot divide by zero')\n",
    "    print('calculation over!...........')\n",
    "\n",
    "divide(3,0)    \n",
    "divide(3,1.5) "
   ]
  },
  {
   "cell_type": "code",
   "execution_count": 5,
   "id": "22ff5e53",
   "metadata": {},
   "outputs": [
    {
     "name": "stdout",
     "output_type": "stream",
     "text": [
      "starting calculation\n"
     ]
    },
    {
     "ename": "TypeError",
     "evalue": "unsupported operand type(s) for /: 'int' and 'str'",
     "output_type": "error",
     "traceback": [
      "\u001b[1;31m---------------------------------------------------------------------------\u001b[0m",
      "\u001b[1;31mTypeError\u001b[0m                                 Traceback (most recent call last)",
      "Cell \u001b[1;32mIn[5], line 1\u001b[0m\n\u001b[1;32m----> 1\u001b[0m divide(\u001b[38;5;241m5\u001b[39m, \u001b[38;5;124m'\u001b[39m\u001b[38;5;124mabc\u001b[39m\u001b[38;5;124m'\u001b[39m)\n",
      "Cell \u001b[1;32mIn[4], line 5\u001b[0m, in \u001b[0;36mdivide\u001b[1;34m(number, divisor)\u001b[0m\n\u001b[0;32m      2\u001b[0m \u001b[38;5;28mprint\u001b[39m(\u001b[38;5;124m'\u001b[39m\u001b[38;5;124mstarting calculation\u001b[39m\u001b[38;5;124m'\u001b[39m)\n\u001b[0;32m      3\u001b[0m \u001b[38;5;28;01mtry\u001b[39;00m:\n\u001b[1;32m----> 5\u001b[0m     result \u001b[38;5;241m=\u001b[39m number\u001b[38;5;241m/\u001b[39mdivisor\n\u001b[0;32m      6\u001b[0m     \u001b[38;5;28mprint\u001b[39m(number, \u001b[38;5;124m'\u001b[39m\u001b[38;5;124m/\u001b[39m\u001b[38;5;124m'\u001b[39m, divisor, \u001b[38;5;124m'\u001b[39m\u001b[38;5;124m=\u001b[39m\u001b[38;5;124m'\u001b[39m, result)\n\u001b[0;32m      7\u001b[0m \u001b[38;5;28;01mexcept\u001b[39;00m \u001b[38;5;167;01mZeroDivisionError\u001b[39;00m:\n",
      "\u001b[1;31mTypeError\u001b[0m: unsupported operand type(s) for /: 'int' and 'str'"
     ]
    }
   ],
   "source": [
    "divide(5, 'abc')"
   ]
  },
  {
   "cell_type": "code",
   "execution_count": 9,
   "id": "bb215358",
   "metadata": {},
   "outputs": [
    {
     "name": "stdout",
     "output_type": "stream",
     "text": [
      "starting calculation\n",
      "cannot divide by zero\n",
      "calculation over!...........\n",
      "starting calculation\n"
     ]
    },
    {
     "ename": "TypeError",
     "evalue": "unsupported operand type(s) for /: 'int' and 'str'",
     "output_type": "error",
     "traceback": [
      "\u001b[1;31m---------------------------------------------------------------------------\u001b[0m",
      "\u001b[1;31mTypeError\u001b[0m                                 Traceback (most recent call last)",
      "Cell \u001b[1;32mIn[9], line 14\u001b[0m\n\u001b[0;32m     11\u001b[0m     \u001b[38;5;28mprint\u001b[39m(\u001b[38;5;124m'\u001b[39m\u001b[38;5;124mcalculation over!...........\u001b[39m\u001b[38;5;124m'\u001b[39m)\n\u001b[0;32m     13\u001b[0m divide(\u001b[38;5;241m3\u001b[39m,\u001b[38;5;241m0\u001b[39m)\n\u001b[1;32m---> 14\u001b[0m divide(\u001b[38;5;241m3\u001b[39m, \u001b[38;5;124m'\u001b[39m\u001b[38;5;124mabc\u001b[39m\u001b[38;5;124m'\u001b[39m)\n",
      "Cell \u001b[1;32mIn[9], line 5\u001b[0m, in \u001b[0;36mdivide\u001b[1;34m(number, divisor)\u001b[0m\n\u001b[0;32m      2\u001b[0m \u001b[38;5;28mprint\u001b[39m(\u001b[38;5;124m'\u001b[39m\u001b[38;5;124mstarting calculation\u001b[39m\u001b[38;5;124m'\u001b[39m)\n\u001b[0;32m      3\u001b[0m \u001b[38;5;28;01mtry\u001b[39;00m:\n\u001b[1;32m----> 5\u001b[0m     result \u001b[38;5;241m=\u001b[39m number\u001b[38;5;241m/\u001b[39mdivisor\n\u001b[0;32m      6\u001b[0m     \u001b[38;5;28mprint\u001b[39m(number, \u001b[38;5;124m'\u001b[39m\u001b[38;5;124m/\u001b[39m\u001b[38;5;124m'\u001b[39m, divisor, \u001b[38;5;124m'\u001b[39m\u001b[38;5;124m=\u001b[39m\u001b[38;5;124m'\u001b[39m, result)\n\u001b[0;32m      7\u001b[0m \u001b[38;5;28;01mexcept\u001b[39;00m \u001b[38;5;167;01mZeroDivisionError\u001b[39;00m:\n",
      "\u001b[1;31mTypeError\u001b[0m: unsupported operand type(s) for /: 'int' and 'str'"
     ]
    }
   ],
   "source": [
    "def divide(number,divisor):\n",
    "    print('starting calculation')\n",
    "    try:\n",
    "        \n",
    "        result = number/divisor\n",
    "        print(number, '/', divisor, '=', result)\n",
    "    except ZeroDivisionError:\n",
    "        print('cannot divide by zero')\n",
    "    except ValueError:\n",
    "        print('cannot divide by zero')\n",
    "    print('calculation over!...........')\n",
    "    \n",
    "divide(3,0)\n",
    "divide(3, 'abc')"
   ]
  },
  {
   "cell_type": "code",
   "execution_count": 12,
   "id": "da021d50",
   "metadata": {},
   "outputs": [
    {
     "name": "stdout",
     "output_type": "stream",
     "text": [
      "calculating 3 / 0\n",
      "incorrect inputs\n",
      "calculation over!...........\n",
      "calculating 3 / abc\n",
      "incorrect inputs\n",
      "calculation over!...........\n"
     ]
    }
   ],
   "source": [
    "def divide(number,divisor):\n",
    "    print('calculating' , number, '/', divisor)\n",
    "    try:\n",
    "        \n",
    "        result = float(number)/float(divisor)\n",
    "        print(number, '/', divisor, '=', result)\n",
    "    except (ZeroDivisionError , ValueError):\n",
    "        print('incorrect inputs')\n",
    "    print('calculation over!...........')\n",
    "    \n",
    "    \n",
    "divide(3,0)\n",
    "divide(3, 'abc')"
   ]
  },
  {
   "cell_type": "markdown",
   "id": "91233155",
   "metadata": {},
   "source": [
    "# index error"
   ]
  },
  {
   "cell_type": "code",
   "execution_count": 13,
   "id": "b0e62d95",
   "metadata": {},
   "outputs": [
    {
     "name": "stdout",
     "output_type": "stream",
     "text": [
      "6\n"
     ]
    },
    {
     "ename": "IndexError",
     "evalue": "list index out of range",
     "output_type": "error",
     "traceback": [
      "\u001b[1;31m---------------------------------------------------------------------------\u001b[0m",
      "\u001b[1;31mIndexError\u001b[0m                                Traceback (most recent call last)",
      "Cell \u001b[1;32mIn[13], line 5\u001b[0m\n\u001b[0;32m      2\u001b[0m     \u001b[38;5;28;01mreturn\u001b[39;00m items[\u001b[38;5;241m0\u001b[39m]\n\u001b[0;32m      4\u001b[0m \u001b[38;5;28mprint\u001b[39m(get_head([\u001b[38;5;241m6\u001b[39m,\u001b[38;5;241m7\u001b[39m,\u001b[38;5;241m8\u001b[39m]))\n\u001b[1;32m----> 5\u001b[0m \u001b[38;5;28mprint\u001b[39m(get_head([]))\n",
      "Cell \u001b[1;32mIn[13], line 2\u001b[0m, in \u001b[0;36mget_head\u001b[1;34m(items)\u001b[0m\n\u001b[0;32m      1\u001b[0m \u001b[38;5;28;01mdef\u001b[39;00m \u001b[38;5;21mget_head\u001b[39m(items):\n\u001b[1;32m----> 2\u001b[0m     \u001b[38;5;28;01mreturn\u001b[39;00m items[\u001b[38;5;241m0\u001b[39m]\n",
      "\u001b[1;31mIndexError\u001b[0m: list index out of range"
     ]
    }
   ],
   "source": [
    "def get_head(items):\n",
    "    return items[0]\n",
    "\n",
    "print(get_head([6,7,8]))\n",
    "print(get_head([]))"
   ]
  },
  {
   "cell_type": "code",
   "execution_count": 14,
   "id": "c3762406",
   "metadata": {},
   "outputs": [
    {
     "ename": "NameError",
     "evalue": "name 'y' is not defined",
     "output_type": "error",
     "traceback": [
      "\u001b[1;31m---------------------------------------------------------------------------\u001b[0m",
      "\u001b[1;31mNameError\u001b[0m                                 Traceback (most recent call last)",
      "Cell \u001b[1;32mIn[14], line 2\u001b[0m\n\u001b[0;32m      1\u001b[0m \u001b[38;5;66;03m#name arror\u001b[39;00m\n\u001b[1;32m----> 2\u001b[0m \u001b[38;5;28mprint\u001b[39m(y)\n",
      "\u001b[1;31mNameError\u001b[0m: name 'y' is not defined"
     ]
    }
   ],
   "source": [
    "#name arror\n",
    "print(y)\n"
   ]
  },
  {
   "cell_type": "code",
   "execution_count": 18,
   "id": "80cb1e9d",
   "metadata": {},
   "outputs": [
    {
     "name": "stdout",
     "output_type": "stream",
     "text": [
      "4\n"
     ]
    }
   ],
   "source": [
    "Y = 4\n",
    "try:\n",
    "    print(Y)\n",
    "except:\n",
    "    print(\"Y is no defined\")    "
   ]
  },
  {
   "cell_type": "code",
   "execution_count": 21,
   "id": "205aa89e",
   "metadata": {},
   "outputs": [
    {
     "name": "stdout",
     "output_type": "stream",
     "text": [
      "hello\n",
      "nothing went wrong\n"
     ]
    }
   ],
   "source": [
    "#ELSE\n",
    "\n",
    "try:\n",
    "    print(\"hello\")\n",
    "except:\n",
    "    print(\"something went wrong\")\n",
    "else:\n",
    "        print(\"nothing went wrong\")"
   ]
  },
  {
   "cell_type": "code",
   "execution_count": 26,
   "id": "b1748ff5",
   "metadata": {},
   "outputs": [
    {
     "name": "stdout",
     "output_type": "stream",
     "text": [
      "variable x is not defined\n"
     ]
    }
   ],
   "source": [
    "try:\n",
    "    print(m)\n",
    "except NameError:\n",
    "    print(\"variable x is not defined\")\n",
    "else:\n",
    "    print(\"something else went wrong\")"
   ]
  },
  {
   "cell_type": "code",
   "execution_count": 28,
   "id": "9ca2a61b",
   "metadata": {},
   "outputs": [
    {
     "name": "stdout",
     "output_type": "stream",
     "text": [
      "hello\n",
      "the 'try and except' is finished\n"
     ]
    }
   ],
   "source": [
    "m='hello'\n",
    "try:\n",
    "    print(m)\n",
    "except:\n",
    "    print(\"something went wrong\")\n",
    "finally:\n",
    "        print(\"the 'try and except' is finished\")"
   ]
  },
  {
   "cell_type": "markdown",
   "id": "57f21d0a",
   "metadata": {},
   "source": [
    "# raise an exception we can choose the exception\n"
   ]
  },
  {
   "cell_type": "code",
   "execution_count": 29,
   "id": "76ebe110",
   "metadata": {},
   "outputs": [
    {
     "ename": "Exception",
     "evalue": "sorry,no number below zero",
     "output_type": "error",
     "traceback": [
      "\u001b[1;31m---------------------------------------------------------------------------\u001b[0m",
      "\u001b[1;31mException\u001b[0m                                 Traceback (most recent call last)",
      "Cell \u001b[1;32mIn[29], line 4\u001b[0m\n\u001b[0;32m      1\u001b[0m x \u001b[38;5;241m=\u001b[39m \u001b[38;5;241m-\u001b[39m\u001b[38;5;241m3\u001b[39m\n\u001b[0;32m      3\u001b[0m \u001b[38;5;28;01mif\u001b[39;00m x \u001b[38;5;241m<\u001b[39m \u001b[38;5;241m0\u001b[39m:\n\u001b[1;32m----> 4\u001b[0m     \u001b[38;5;28;01mraise\u001b[39;00m \u001b[38;5;167;01mException\u001b[39;00m(\u001b[38;5;124m\"\u001b[39m\u001b[38;5;124msorry,no number below zero\u001b[39m\u001b[38;5;124m\"\u001b[39m)\n",
      "\u001b[1;31mException\u001b[0m: sorry,no number below zero"
     ]
    }
   ],
   "source": [
    "x = -3\n",
    "\n",
    "if x < 0:\n",
    "    raise Exception(\"sorry,no number below zero\")"
   ]
  },
  {
   "cell_type": "code",
   "execution_count": 34,
   "id": "b5725eb9",
   "metadata": {},
   "outputs": [
    {
     "ename": "TypeError",
     "evalue": "only integers are allowed",
     "output_type": "error",
     "traceback": [
      "\u001b[1;31m---------------------------------------------------------------------------\u001b[0m",
      "\u001b[1;31mTypeError\u001b[0m                                 Traceback (most recent call last)",
      "Cell \u001b[1;32mIn[34], line 5\u001b[0m\n\u001b[0;32m      2\u001b[0m x \u001b[38;5;241m=\u001b[39m \u001b[38;5;124m\"\u001b[39m\u001b[38;5;124mhello\u001b[39m\u001b[38;5;124m\"\u001b[39m\n\u001b[0;32m      4\u001b[0m \u001b[38;5;28;01mif\u001b[39;00m \u001b[38;5;129;01mnot\u001b[39;00m \u001b[38;5;28mtype\u001b[39m(x) \u001b[38;5;129;01mis\u001b[39;00m \u001b[38;5;28mint\u001b[39m:\n\u001b[1;32m----> 5\u001b[0m     \u001b[38;5;28;01mraise\u001b[39;00m \u001b[38;5;167;01mTypeError\u001b[39;00m(\u001b[38;5;124m\"\u001b[39m\u001b[38;5;124monly integers are allowed\u001b[39m\u001b[38;5;124m\"\u001b[39m)\n",
      "\u001b[1;31mTypeError\u001b[0m: only integers are allowed"
     ]
    }
   ],
   "source": [
    "#x=7\n",
    "x = \"hello\"\n",
    "\n",
    "if not type(x) is int:\n",
    "    raise TypeError(\"only integers are allowed\")"
   ]
  },
  {
   "cell_type": "code",
   "execution_count": 3,
   "id": "edc1ceba",
   "metadata": {},
   "outputs": [
    {
     "name": "stdout",
     "output_type": "stream",
     "text": [
      "input a integer:4.4\n",
      "this is not a intiger, try again\n",
      "input a integer:6\n",
      "you entered 6\n"
     ]
    }
   ],
   "source": [
    "#program (enter integer)\n",
    "while True:\n",
    "    try:\n",
    "        x = int(input(\"input a integer:\"))\n",
    "        print(\"you entered\", x)\n",
    "        break #exit the loop\n",
    "    except ValueError:\n",
    "        print(\"this is not a intiger, try again\")\n",
    "\n"
   ]
  },
  {
   "cell_type": "code",
   "execution_count": null,
   "id": "fca05ce6",
   "metadata": {},
   "outputs": [],
   "source": []
  },
  {
   "cell_type": "code",
   "execution_count": null,
   "id": "690e2de5",
   "metadata": {},
   "outputs": [],
   "source": []
  }
 ],
 "metadata": {
  "kernelspec": {
   "display_name": "Python 3 (ipykernel)",
   "language": "python",
   "name": "python3"
  },
  "language_info": {
   "codemirror_mode": {
    "name": "ipython",
    "version": 3
   },
   "file_extension": ".py",
   "mimetype": "text/x-python",
   "name": "python",
   "nbconvert_exporter": "python",
   "pygments_lexer": "ipython3",
   "version": "3.11.5"
  }
 },
 "nbformat": 4,
 "nbformat_minor": 5
}
