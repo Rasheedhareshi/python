{
 "cells": [
  {
   "cell_type": "code",
   "execution_count": 2,
   "id": "fc94bf98",
   "metadata": {},
   "outputs": [
    {
     "name": "stdout",
     "output_type": "stream",
     "text": [
      "hello, how are you ?\n"
     ]
    }
   ],
   "source": [
    "#1.\tWrite a program that prints \"Hello, How are You ? \" on the console.\n",
    "x = \"hello,\"\n",
    "y = \"how are you ?\"\n",
    "print(x,y)"
   ]
  },
  {
   "cell_type": "code",
   "execution_count": 5,
   "id": "4f625203",
   "metadata": {},
   "outputs": [
    {
     "name": "stdout",
     "output_type": "stream",
     "text": [
      "enter your name:izza\n",
      "izza welcome to the party\n"
     ]
    }
   ],
   "source": [
    "2.#Write a program that take the user ‘s name and then prints a greeting message with their name.\n",
    "\n",
    "name = input(\"enter your name:\")\n",
    "print(name , \"welcome to the party\")"
   ]
  },
  {
   "cell_type": "code",
   "execution_count": 10,
   "id": "a908f013",
   "metadata": {},
   "outputs": [
    {
     "name": "stdout",
     "output_type": "stream",
     "text": [
      "enter first number:6\n",
      "enter second number:7\n",
      "sum of the numbers: 67\n"
     ]
    }
   ],
   "source": [
    "#3.\tWrite a program that takes two numbers as input and prints their sum.\n",
    "x = input(\"enter first number:\")\n",
    "y = input(\"enter second number:\")\n",
    "sum = x+y\n",
    "print(\"sum of the numbers:\" ,sum)\n"
   ]
  },
  {
   "cell_type": "code",
   "execution_count": 12,
   "id": "8e07ca9f",
   "metadata": {},
   "outputs": [
    {
     "name": "stdout",
     "output_type": "stream",
     "text": [
      "20\n"
     ]
    }
   ],
   "source": [
    "#4.\tWrite a program that takes a string as input and prints its length.\n",
    "str = \"iam from eranamkulam\"\n",
    "length = len(str)\n",
    "print(length)"
   ]
  },
  {
   "cell_type": "code",
   "execution_count": 15,
   "id": "433eca1e",
   "metadata": {},
   "outputs": [
    {
     "name": "stdout",
     "output_type": "stream",
     "text": [
      "number of words: 3\n"
     ]
    }
   ],
   "source": [
    "#5.\tWrite a program that takes a sentence and then prints the number of words in that sentence.\n",
    "\n",
    "my_string = \"how are you\"\n",
    "words = my_string.split()\n",
    "num_words = len(words)\n",
    "print(\"number of words:\", num_words)"
   ]
  },
  {
   "cell_type": "code",
   "execution_count": 10,
   "id": "47c01b88",
   "metadata": {},
   "outputs": [
    {
     "name": "stdout",
     "output_type": "stream",
     "text": [
      "enter a sentance:good n sweet dreams\n",
      "GOOD N SWEET DREAMS\n",
      "number of uppercase letters: GOOD N SWEET DREAMS\n"
     ]
    }
   ],
   "source": [
    "#6.\tWrite a program that takes a string as input and counts the number of uppercase letters in the string.\n",
    "\n",
    "\n",
    "string = input(\"enter a sentance:\")\n",
    "count_uppercase = string.upper()\n",
    "count = 0 \n",
    "count += 1\n",
    "print(string.upper())\n",
    "print(\"number of uppercase letters:\", count_uppercase)"
   ]
  },
  {
   "cell_type": "code",
   "execution_count": 9,
   "id": "2740dc45",
   "metadata": {},
   "outputs": [
    {
     "name": "stdout",
     "output_type": "stream",
     "text": [
      "enter a sentancewelcom to womenhood\n",
      "WELCOM TO WOMENHOOD\n"
     ]
    }
   ],
   "source": [
    "##7.\tWrite a program that takes a sentence and then converts all the characters to uppercase.\n",
    "\n",
    "string = input(\"enter a sentance\")\n",
    "print(string.upper())"
   ]
  },
  {
   "cell_type": "code",
   "execution_count": 8,
   "id": "d5adb676",
   "metadata": {},
   "outputs": [
    {
     "name": "stdout",
     "output_type": "stream",
     "text": [
      "enter a string:how are you\n",
      "how ere you\n"
     ]
    }
   ],
   "source": [
    "#8.\tWrite a program that takes a string as input and replaces all occurrences of the letter 'a' with the letter 'e'.\n",
    "my_string = input(\"enter a string:\")\n",
    "replace_string = my_string.replace('a', 'e')\n",
    "print(replace_string)"
   ]
  },
  {
   "cell_type": "code",
   "execution_count": 11,
   "id": "73e6b895",
   "metadata": {},
   "outputs": [
    {
     "name": "stdout",
     "output_type": "stream",
     "text": [
      "Enter a string: malayalam\n",
      "The string is a palindrome.\n"
     ]
    }
   ],
   "source": [
    "#9.\tCreate a program that checks if a given string is a palindrome.\n",
    "#10.\t Create a program that checks if a substring is present in a given string.\n",
    "#11.\t Write a program that reverses the order of words in a given sentence.\n",
    "#12.\t Write a program that finds the longest word in a given sentence.\n",
    "\n",
    "def is_palindrome(s):\n",
    "    s = ''.join(char.lower() for char in s if char.isalnum())\n",
    "    return s == s[::-1]\n",
    "\n",
    "\n",
    "input_string = input(\"Enter a string: \")\n",
    "if is_palindrome(input_string):\n",
    "    print(\"The string is a palindrome.\")\n",
    "else:\n",
    "    print(\"The string is not a palindrome.\")\n",
    "    "
   ]
  },
  {
   "cell_type": "code",
   "execution_count": null,
   "id": "cac537c8",
   "metadata": {},
   "outputs": [],
   "source": [
    "#12- question.\n",
    "\n",
    "def find_longest_word(sentence):\n",
    "    word = sentence.split()\n",
    "    longest_word = \"\" \n",
    "    for word in sentence:\n",
    "        if len(word) > len(longest_word):\n",
    "            longest_word = word\n",
    "            return longest_word\n",
    "        \n",
    "        \n",
    "sentence = input(\"enter a sentence:\")\n",
    "longest_word = find_longest_word(sentence)\n",
    "print(\"the longest word is:\", longest_word)\n"
   ]
  },
  {
   "cell_type": "code",
   "execution_count": null,
   "id": "33ae6989",
   "metadata": {},
   "outputs": [],
   "source": [
    "#11- question\n",
    "\n",
    "my_string = \"hello ,everyone\"\n",
    "reversed_string = my_string[: : -1]\n",
    "print(reversed_string)"
   ]
  },
  {
   "cell_type": "code",
   "execution_count": null,
   "id": "61440371",
   "metadata": {},
   "outputs": [],
   "source": [
    "#10 question\n",
    "\n",
    "def substring_present(my_string, substring):\n",
    "    return substring in my_string\n",
    "\n",
    "my_string = input(\"enter the string:\")\n",
    "substring = input(\"enter the substring:\")\n",
    "\n",
    "if substring_present(my_string, substring):\n",
    "    print(\"substring is present\")\n",
    "else:\n",
    "    print(\"substring not present\")\n",
    "    \n",
    "    \n",
    "substring_present(my_string, substring)    "
   ]
  },
  {
   "cell_type": "code",
   "execution_count": null,
   "id": "6ee2dd42",
   "metadata": {},
   "outputs": [],
   "source": []
  }
 ],
 "metadata": {
  "kernelspec": {
   "display_name": "Python 3 (ipykernel)",
   "language": "python",
   "name": "python3"
  },
  "language_info": {
   "codemirror_mode": {
    "name": "ipython",
    "version": 3
   },
   "file_extension": ".py",
   "mimetype": "text/x-python",
   "name": "python",
   "nbconvert_exporter": "python",
   "pygments_lexer": "ipython3",
   "version": "3.11.5"
  }
 },
 "nbformat": 4,
 "nbformat_minor": 5
}
