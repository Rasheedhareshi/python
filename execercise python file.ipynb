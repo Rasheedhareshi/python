{
 "cells": [
  {
   "cell_type": "code",
   "execution_count": 1,
   "id": "96017ea7",
   "metadata": {},
   "outputs": [
    {
     "name": "stdout",
     "output_type": "stream",
     "text": [
      "hip\n",
      "hip\n",
      "horray\n",
      "hip\n",
      "hip\n",
      "horray\n",
      "hip\n",
      "hip\n",
      "horray\n"
     ]
    }
   ],
   "source": [
    "#question  assignment 1 function\n",
    "\n",
    "def say_hip():\n",
    "    print(\"hip\")\n",
    "\n",
    "def say_horray():\n",
    "        print(\"horray\")\n",
    "for i in range(3):\n",
    "            \n",
    "    say_hip()\n",
    "    say_hip()\n",
    "    say_horray()"
   ]
  },
  {
   "cell_type": "code",
   "execution_count": 16,
   "id": "fcfdd1b5",
   "metadata": {},
   "outputs": [
    {
     "name": "stdout",
     "output_type": "stream",
     "text": [
      "enter score of project:50\n",
      "enter score of exam:40\n",
      "A grade\n"
     ]
    }
   ],
   "source": [
    "#2 -question\n",
    "\n",
    "def total_score(project_score, exam_score):\n",
    "    total_score = project_score + exam_score\n",
    "    if total_score > 85:\n",
    "        print(\"A grade\")\n",
    "    elif total_score > 60:\n",
    "            print(\"B grade\")\n",
    "    elif total_score > 40:\n",
    "        print(\"C grade\")\n",
    "        \n",
    "    else:  \n",
    "        print(\"D grade\")\n",
    "        \n",
    "project_score = int(input(\"enter score of project:\"))\n",
    "exam_score = int(input(\"enter score of exam:\"))       \n",
    "\n",
    "total_score(project_score, exam_score)        "
   ]
  },
  {
   "cell_type": "code",
   "execution_count": 19,
   "id": "c55a63e4",
   "metadata": {},
   "outputs": [
    {
     "name": "stdout",
     "output_type": "stream",
     "text": [
      "enter score of project:50\n",
      "enter score of exam:40\n",
      "Total   : ==========\n",
      "Total   : ========\n"
     ]
    },
    {
     "ename": "TypeError",
     "evalue": "unsupported operand type(s) for //: 'function' and 'int'",
     "output_type": "error",
     "traceback": [
      "\u001b[1;31m---------------------------------------------------------------------------\u001b[0m",
      "\u001b[1;31mTypeError\u001b[0m                                 Traceback (most recent call last)",
      "Cell \u001b[1;32mIn[19], line 23\u001b[0m\n\u001b[0;32m     21\u001b[0m print_score(\u001b[38;5;124m'\u001b[39m\u001b[38;5;124mProject :\u001b[39m\u001b[38;5;124m'\u001b[39m, project_score)\n\u001b[0;32m     22\u001b[0m print_score(\u001b[38;5;124m'\u001b[39m\u001b[38;5;124mExam    :\u001b[39m\u001b[38;5;124m'\u001b[39m, exam_score)\n\u001b[1;32m---> 23\u001b[0m print_score(\u001b[38;5;124m'\u001b[39m\u001b[38;5;124mTotal   :\u001b[39m\u001b[38;5;124m'\u001b[39m, total_score)\n\u001b[0;32m     26\u001b[0m total_score(project_score, exam_score)\n",
      "Cell \u001b[1;32mIn[19], line 3\u001b[0m, in \u001b[0;36mprint_score\u001b[1;34m(label, score)\u001b[0m\n\u001b[0;32m      2\u001b[0m \u001b[38;5;28;01mdef\u001b[39;00m \u001b[38;5;21mprint_score\u001b[39m(label, score):\n\u001b[1;32m----> 3\u001b[0m     \u001b[38;5;28mprint\u001b[39m(\u001b[38;5;124m'\u001b[39m\u001b[38;5;124mTotal   :\u001b[39m\u001b[38;5;124m'\u001b[39m, \u001b[38;5;124m'\u001b[39m\u001b[38;5;124m=\u001b[39m\u001b[38;5;124m'\u001b[39m \u001b[38;5;241m*\u001b[39m (score\u001b[38;5;241m/\u001b[39m\u001b[38;5;241m/\u001b[39m\u001b[38;5;241m5\u001b[39m))\n",
      "\u001b[1;31mTypeError\u001b[0m: unsupported operand type(s) for //: 'function' and 'int'"
     ]
    }
   ],
   "source": [
    "#3-question\n",
    "def print_score(label, score):\n",
    "    print('Total   :', '=' * (score//5))\n",
    "\n",
    "def total_score(project_score, exam_score):\n",
    "    total_score = project_score + exam_score\n",
    "    if total_score > 85:\n",
    "        print(\"A grade\")\n",
    "    elif total_score > 60:\n",
    "            print(\"B grade\")\n",
    "    elif total_score > 40:\n",
    "        print(\"C grade\")\n",
    "        \n",
    "    else:  \n",
    "        print(\"D grade\")\n",
    "        \n",
    "project_score = int(input(\"enter score of project:\"))\n",
    "exam_score = int(input(\"enter score of exam:\"))  \n",
    "\n",
    "\n",
    "print_score('Project :', project_score)\n",
    "print_score('Exam    :', exam_score)\n",
    "print_score('Total   :', total_score)\n",
    "\n",
    "\n",
    "total_score(project_score, exam_score)\n"
   ]
  },
  {
   "cell_type": "code",
   "execution_count": 26,
   "id": "d10f90fe",
   "metadata": {},
   "outputs": [
    {
     "name": "stdout",
     "output_type": "stream",
     "text": [
      "enter score of project:50\n",
      "enter score of exam:40\n",
      "grade A\n",
      "grade A\n"
     ]
    }
   ],
   "source": [
    "#4 -question\n",
    "def calculate_grade(project_score, exam_score):\n",
    "    total_score = project_score + exam_score\n",
    "\n",
    "    if total_score >= 60 and project_score >= 25 and exam_score >= 25:\n",
    "         print(\"grade A\")\n",
    "    elif (total_score >= 50) and (project_score >= 25 or exam_score >= 25):\n",
    "         print(\"grade B\")\n",
    "    elif total_score >= 40:\n",
    "        print(\"grade C\")\n",
    "    else:\n",
    "        print(\"grade D\")\n",
    "    \n",
    "def total_score(project_score, exam_score):\n",
    "    total_score = project_score + exam_score\n",
    "\n",
    "    if total_score >= 60 and project_score >= 25 and exam_score >= 25:\n",
    "         print(\"grade A\")\n",
    "    elif (total_score >= 50) and (project_score >= 25 or exam_score >= 25):\n",
    "         print(\"grade B\")\n",
    "    elif total_score >= 40:\n",
    "        print(\"grade C\")\n",
    "    else:\n",
    "        print(\"grade D\")\n",
    "        \n",
    "        \n",
    "project_score = int(input(\"enter score of project:\"))\n",
    "exam_score = int(input(\"enter score of exam:\")) \n",
    "grade = calculate_grade(project_score, exam_score)\n",
    "total_score(project_score, exam_score)"
   ]
  },
  {
   "cell_type": "code",
   "execution_count": 30,
   "id": "772b6224",
   "metadata": {},
   "outputs": [
    {
     "name": "stdout",
     "output_type": "stream",
     "text": [
      "enter score of project:50\n",
      "enter score of exam:40\n",
      "grade A\n",
      "Total   : ==========\n",
      "Total   : ========\n",
      "Total   : ==================\n"
     ]
    }
   ],
   "source": [
    "#5- question \n",
    "def calculate_grade(project_score, exam_score):\n",
    "    total_score = project_score + exam_score\n",
    "\n",
    "    if total_score >= 60 and project_score >= 25 and exam_score >= 25:\n",
    "         print(\"grade A\")\n",
    "    elif (total_score >= 50) and (project_score >= 25 or exam_score >= 25):\n",
    "         print(\"grade B\")\n",
    "    elif total_score >= 40:\n",
    "        print(\"grade C\")\n",
    "    else:\n",
    "        print(\"grade D\")\n",
    "    \n",
    "def main():\n",
    "        \n",
    "    project_score = int(input(\"enter score of project:\"))\n",
    "    exam_score = int(input(\"enter score of exam:\")) \n",
    "\n",
    "    calculate_grade(project_score, exam_score)\n",
    "\n",
    "    print_score('Project :', project_score)\n",
    "    print_score('Exam    :', exam_score)\n",
    "    print_score('Total   :', project_score + exam_score)\n",
    "    \n",
    "main()    \n"
   ]
  },
  {
   "cell_type": "code",
   "execution_count": 3,
   "id": "32f97821",
   "metadata": {},
   "outputs": [
    {
     "ename": "NameError",
     "evalue": "name 'read_number' is not defined",
     "output_type": "error",
     "traceback": [
      "\u001b[1;31m---------------------------------------------------------------------------\u001b[0m",
      "\u001b[1;31mNameError\u001b[0m                                 Traceback (most recent call last)",
      "Cell \u001b[1;32mIn[3], line 23\u001b[0m\n\u001b[0;32m     20\u001b[0m     grade \u001b[38;5;241m=\u001b[39m calculate_grade(project_score, exam_score)\n\u001b[0;32m     21\u001b[0m     print_report(project_score, exam_score, grade)\n\u001b[1;32m---> 23\u001b[0m main()\n",
      "Cell \u001b[1;32mIn[3], line 18\u001b[0m, in \u001b[0;36mmain\u001b[1;34m()\u001b[0m\n\u001b[0;32m     17\u001b[0m \u001b[38;5;28;01mdef\u001b[39;00m \u001b[38;5;21mmain\u001b[39m():\n\u001b[1;32m---> 18\u001b[0m     project_score \u001b[38;5;241m=\u001b[39m read_number(\u001b[38;5;124m'\u001b[39m\u001b[38;5;124mEnter project score:\u001b[39m\u001b[38;5;124m'\u001b[39m)\n\u001b[0;32m     19\u001b[0m     exam_score \u001b[38;5;241m=\u001b[39m read_number(\u001b[38;5;124m'\u001b[39m\u001b[38;5;124mEnter exam score:\u001b[39m\u001b[38;5;124m'\u001b[39m)\n\u001b[0;32m     20\u001b[0m     grade \u001b[38;5;241m=\u001b[39m calculate_grade(project_score, exam_score)\n",
      "\u001b[1;31mNameError\u001b[0m: name 'read_number' is not defined"
     ]
    }
   ],
   "source": [
    "#6-question\n",
    "\n",
    "def print_score(name, value):\n",
    "    print(name,value)\n",
    "def calculate_grade(project, exam):\n",
    "    total_score = project_score + exam_score\n",
    "\n",
    "    if total_score >= 60 and project_score >= 25 and exam_score >= 25:\n",
    "         print(\"grade A\")\n",
    "    elif (total_score >= 50) and (project_score >= 25 or exam_score >= 25):\n",
    "         print(\"grade B\")\n",
    "    elif total_score >= 40:\n",
    "        print(\"grade C\")\n",
    "    else:\n",
    "        print(\"grade D\")\n",
    "\n",
    "def main():\n",
    "    project_score = read_number('Enter project score:')\n",
    "    exam_score = read_number('Enter exam score:')\n",
    "    grade = calculate_grade(project_score, exam_score)\n",
    "    print_report(project_score, exam_score, grade)\n",
    "\n",
    "main()\n"
   ]
  },
  {
   "cell_type": "code",
   "execution_count": null,
   "id": "75416b65",
   "metadata": {},
   "outputs": [],
   "source": []
  },
  {
   "cell_type": "code",
   "execution_count": null,
   "id": "34668987",
   "metadata": {},
   "outputs": [],
   "source": []
  }
 ],
 "metadata": {
  "kernelspec": {
   "display_name": "Python 3 (ipykernel)",
   "language": "python",
   "name": "python3"
  },
  "language_info": {
   "codemirror_mode": {
    "name": "ipython",
    "version": 3
   },
   "file_extension": ".py",
   "mimetype": "text/x-python",
   "name": "python",
   "nbconvert_exporter": "python",
   "pygments_lexer": "ipython3",
   "version": "3.11.5"
  }
 },
 "nbformat": 4,
 "nbformat_minor": 5
}
