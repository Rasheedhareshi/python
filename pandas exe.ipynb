{
 "cells": [
  {
   "cell_type": "code",
   "execution_count": 3,
   "id": "35b0d926",
   "metadata": {},
   "outputs": [
    {
     "name": "stdout",
     "output_type": "stream",
     "text": [
      "       name  age  pclass  ticket no   place\n",
      "0      jack   20  class3        456  london\n",
      "1      rose   19  class1        757  london\n",
      "2      mary   33  class1        899  london\n",
      "3  fernadas   43  class2        564  london\n"
     ]
    }
   ],
   "source": [
    "#1 \n",
    "import pandas as pd\n",
    "\n",
    "data = {'name':['jack','rose','mary','fernadas'],'age':[20,19,33,43],\n",
    "        'pclass' :['class3','class1','class1','class2'],'ticket no' :[456,757,899,564],\n",
    "        'place' :['london','london','london','london']}\n",
    "df = pd.DataFrame(data)\n",
    "print(df)"
   ]
  },
  {
   "cell_type": "code",
   "execution_count": 9,
   "id": "5a9e68a0",
   "metadata": {},
   "outputs": [
    {
     "name": "stdout",
     "output_type": "stream",
     "text": [
      "   pclass\n",
      "0  class3\n",
      "1  class1\n",
      "2  class1\n",
      "3  class2\n"
     ]
    }
   ],
   "source": [
    "#2\n",
    "\n",
    "df1 = pd.DataFrame(data,index=[0,1,2,3],columns=['pclass'])\n",
    "print(df1)"
   ]
  },
  {
   "cell_type": "code",
   "execution_count": 10,
   "id": "0724fd32",
   "metadata": {},
   "outputs": [
    {
     "name": "stdout",
     "output_type": "stream",
     "text": [
      "       name  age  pclass  ticket no   place          is_alone\n",
      "0      jack   20  class3        456  london        no sibling\n",
      "1      rose   19  class1        757  london  parents on board\n",
      "2      mary   33  class1        899  london       with spouse\n",
      "3  fernadas   43  class2        564  london             False\n"
     ]
    }
   ],
   "source": [
    "#3\n",
    "\n",
    "df.insert(6,\"fare_category\",['cheap','expensive','expensive','moderate','cheap','very cheap','expensive'])\n",
    "print(df)\n"
   ]
  },
  {
   "cell_type": "code",
   "execution_count": 22,
   "id": "c7c6f968",
   "metadata": {},
   "outputs": [
    {
     "name": "stdout",
     "output_type": "stream",
     "text": [
      "pclass\n",
      "class1    22.666667\n",
      "class2    36.500000\n",
      "class3    21.500000\n",
      "Name: age, dtype: float64\n"
     ]
    }
   ],
   "source": [
    "#4\n",
    "\n",
    "data = {\n",
    "    'name': ['jack', 'rose', 'mary', 'fernadas', 'john', 'clara', 'davis'],\n",
    "    'age': [20, 19, 33, 43, 23, 16, 30],\n",
    "    'pclass': ['class3', 'class1', 'class1', 'class2', 'class3', 'class1', 'class2'],\n",
    "    'ticket no': [456, 757, 899, 564, 333, 123, 432],\n",
    "    'fare': [3, 10, 10, 5, 2, 3, 10]\n",
    "}\n",
    "\n",
    "df = pd.DataFrame(data)\n",
    "mean_age_by_pclass = df.groupby('pclass')['age'].mean()\n",
    "\n",
    "print(mean_age_by_pclass)\n",
    "\n"
   ]
  },
  {
   "cell_type": "code",
   "execution_count": 21,
   "id": "4741a6ad",
   "metadata": {},
   "outputs": [
    {
     "name": "stdout",
     "output_type": "stream",
     "text": [
      "       name  age  pclass  ticket no  fare\n",
      "0      jack   20  class3        456     3\n",
      "1      rose   19  class1        757    10\n",
      "2      mary   33  class1        899    10\n",
      "3  fernadas   43  class2        564     5\n",
      "4      john   23  class3        333     2\n",
      "5     clara   16  class1        123     3\n",
      "6     davis   30  class2        432    10\n",
      "   fare\n",
      "1    10\n",
      "2    10\n",
      "6    10\n",
      "3     5\n",
      "0     3\n",
      "5     3\n",
      "4     2\n"
     ]
    }
   ],
   "source": [
    "#5\n",
    "\n",
    "data = {\n",
    "    'name':['jack','rose','mary','fernadas','john','clara','davis'],\n",
    "    'age':[20,19,33,43,23,16,30],\n",
    "    'pclass' :['class3','class1','class1','class2','class3','class1','class2'],\n",
    "    'ticket no' :[456,757,899,564,333,123,432],\n",
    "    'fare' :[3,10,10,5,2,3,10]\n",
    "}\n",
    "df = pd.DataFrame(data)\n",
    "print(df)\n",
    "df1 = pd.DataFrame(data['fare'], columns=['fare'])\n",
    "sorted_df1 =df1.sort_values(by='fare', ascending=False)\n",
    "print(sorted_df1.head(10))"
   ]
  },
  {
   "cell_type": "code",
   "execution_count": 30,
   "id": "34c06cde",
   "metadata": {},
   "outputs": [
    {
     "ename": "IndexError",
     "evalue": "index 6 is out of bounds for axis 0 with size 5",
     "output_type": "error",
     "traceback": [
      "\u001b[1;31m---------------------------------------------------------------------------\u001b[0m",
      "\u001b[1;31mIndexError\u001b[0m                                Traceback (most recent call last)",
      "Cell \u001b[1;32mIn[30], line 3\u001b[0m\n\u001b[0;32m      1\u001b[0m \u001b[38;5;66;03m#6\u001b[39;00m\n\u001b[1;32m----> 3\u001b[0m df\u001b[38;5;241m.\u001b[39minsert(\u001b[38;5;241m6\u001b[39m,\u001b[38;5;124m\"\u001b[39m\u001b[38;5;124mfare_category\u001b[39m\u001b[38;5;124m\"\u001b[39m,[\u001b[38;5;124m'\u001b[39m\u001b[38;5;124mcheap\u001b[39m\u001b[38;5;124m'\u001b[39m,\u001b[38;5;124m'\u001b[39m\u001b[38;5;124mexpensive\u001b[39m\u001b[38;5;124m'\u001b[39m,\u001b[38;5;124m'\u001b[39m\u001b[38;5;124mexpensive\u001b[39m\u001b[38;5;124m'\u001b[39m,\u001b[38;5;124m'\u001b[39m\u001b[38;5;124mmoderate\u001b[39m\u001b[38;5;124m'\u001b[39m,\u001b[38;5;124m'\u001b[39m\u001b[38;5;124mcheap\u001b[39m\u001b[38;5;124m'\u001b[39m,\u001b[38;5;124m'\u001b[39m\u001b[38;5;124mvery cheap\u001b[39m\u001b[38;5;124m'\u001b[39m,\u001b[38;5;124m'\u001b[39m\u001b[38;5;124mexpensive\u001b[39m\u001b[38;5;124m'\u001b[39m])\n\u001b[0;32m      4\u001b[0m \u001b[38;5;28mprint\u001b[39m(df)\n",
      "File \u001b[1;32m~\\Documents\\Python Scripts\\Lib\\site-packages\\pandas\\core\\frame.py:4777\u001b[0m, in \u001b[0;36mDataFrame.insert\u001b[1;34m(self, loc, column, value, allow_duplicates)\u001b[0m\n\u001b[0;32m   4774\u001b[0m     \u001b[38;5;28;01mraise\u001b[39;00m \u001b[38;5;167;01mTypeError\u001b[39;00m(\u001b[38;5;124m\"\u001b[39m\u001b[38;5;124mloc must be int\u001b[39m\u001b[38;5;124m\"\u001b[39m)\n\u001b[0;32m   4776\u001b[0m value \u001b[38;5;241m=\u001b[39m \u001b[38;5;28mself\u001b[39m\u001b[38;5;241m.\u001b[39m_sanitize_column(value)\n\u001b[1;32m-> 4777\u001b[0m \u001b[38;5;28mself\u001b[39m\u001b[38;5;241m.\u001b[39m_mgr\u001b[38;5;241m.\u001b[39minsert(loc, column, value)\n",
      "File \u001b[1;32m~\\Documents\\Python Scripts\\Lib\\site-packages\\pandas\\core\\internals\\managers.py:1398\u001b[0m, in \u001b[0;36mBlockManager.insert\u001b[1;34m(self, loc, item, value)\u001b[0m\n\u001b[0;32m   1388\u001b[0m \u001b[38;5;250m\u001b[39m\u001b[38;5;124;03m\"\"\"\u001b[39;00m\n\u001b[0;32m   1389\u001b[0m \u001b[38;5;124;03mInsert item at selected position.\u001b[39;00m\n\u001b[0;32m   1390\u001b[0m \n\u001b[1;32m   (...)\u001b[0m\n\u001b[0;32m   1395\u001b[0m \u001b[38;5;124;03mvalue : np.ndarray or ExtensionArray\u001b[39;00m\n\u001b[0;32m   1396\u001b[0m \u001b[38;5;124;03m\"\"\"\u001b[39;00m\n\u001b[0;32m   1397\u001b[0m \u001b[38;5;66;03m# insert to the axis; this could possibly raise a TypeError\u001b[39;00m\n\u001b[1;32m-> 1398\u001b[0m new_axis \u001b[38;5;241m=\u001b[39m \u001b[38;5;28mself\u001b[39m\u001b[38;5;241m.\u001b[39mitems\u001b[38;5;241m.\u001b[39minsert(loc, item)\n\u001b[0;32m   1400\u001b[0m \u001b[38;5;28;01mif\u001b[39;00m value\u001b[38;5;241m.\u001b[39mndim \u001b[38;5;241m==\u001b[39m \u001b[38;5;241m2\u001b[39m:\n\u001b[0;32m   1401\u001b[0m     value \u001b[38;5;241m=\u001b[39m value\u001b[38;5;241m.\u001b[39mT\n",
      "File \u001b[1;32m~\\Documents\\Python Scripts\\Lib\\site-packages\\pandas\\core\\indexes\\base.py:6655\u001b[0m, in \u001b[0;36mIndex.insert\u001b[1;34m(self, loc, item)\u001b[0m\n\u001b[0;32m   6648\u001b[0m \u001b[38;5;28;01mif\u001b[39;00m arr\u001b[38;5;241m.\u001b[39mdtype \u001b[38;5;241m!=\u001b[39m \u001b[38;5;28mobject\u001b[39m \u001b[38;5;129;01mor\u001b[39;00m \u001b[38;5;129;01mnot\u001b[39;00m \u001b[38;5;28misinstance\u001b[39m(\n\u001b[0;32m   6649\u001b[0m     item, (\u001b[38;5;28mtuple\u001b[39m, np\u001b[38;5;241m.\u001b[39mdatetime64, np\u001b[38;5;241m.\u001b[39mtimedelta64)\n\u001b[0;32m   6650\u001b[0m ):\n\u001b[0;32m   6651\u001b[0m     \u001b[38;5;66;03m# with object-dtype we need to worry about numpy incorrectly casting\u001b[39;00m\n\u001b[0;32m   6652\u001b[0m     \u001b[38;5;66;03m# dt64/td64 to integer, also about treating tuples as sequences\u001b[39;00m\n\u001b[0;32m   6653\u001b[0m     \u001b[38;5;66;03m# special-casing dt64/td64 https://github.com/numpy/numpy/issues/12550\u001b[39;00m\n\u001b[0;32m   6654\u001b[0m     casted \u001b[38;5;241m=\u001b[39m arr\u001b[38;5;241m.\u001b[39mdtype\u001b[38;5;241m.\u001b[39mtype(item)\n\u001b[1;32m-> 6655\u001b[0m     new_values \u001b[38;5;241m=\u001b[39m np\u001b[38;5;241m.\u001b[39minsert(arr, loc, casted)\n\u001b[0;32m   6657\u001b[0m \u001b[38;5;28;01melse\u001b[39;00m:\n\u001b[0;32m   6658\u001b[0m     \u001b[38;5;66;03m# error: No overload variant of \"insert\" matches argument types\u001b[39;00m\n\u001b[0;32m   6659\u001b[0m     \u001b[38;5;66;03m# \"ndarray[Any, Any]\", \"int\", \"None\"\u001b[39;00m\n\u001b[0;32m   6660\u001b[0m     new_values \u001b[38;5;241m=\u001b[39m np\u001b[38;5;241m.\u001b[39minsert(arr, loc, \u001b[38;5;28;01mNone\u001b[39;00m)  \u001b[38;5;66;03m# type: ignore[call-overload]\u001b[39;00m\n",
      "File \u001b[1;32m<__array_function__ internals>:200\u001b[0m, in \u001b[0;36minsert\u001b[1;34m(*args, **kwargs)\u001b[0m\n",
      "File \u001b[1;32m~\\Documents\\Python Scripts\\Lib\\site-packages\\numpy\\lib\\function_base.py:5387\u001b[0m, in \u001b[0;36minsert\u001b[1;34m(arr, obj, values, axis)\u001b[0m\n\u001b[0;32m   5385\u001b[0m index \u001b[38;5;241m=\u001b[39m indices\u001b[38;5;241m.\u001b[39mitem()\n\u001b[0;32m   5386\u001b[0m \u001b[38;5;28;01mif\u001b[39;00m index \u001b[38;5;241m<\u001b[39m \u001b[38;5;241m-\u001b[39mN \u001b[38;5;129;01mor\u001b[39;00m index \u001b[38;5;241m>\u001b[39m N:\n\u001b[1;32m-> 5387\u001b[0m     \u001b[38;5;28;01mraise\u001b[39;00m \u001b[38;5;167;01mIndexError\u001b[39;00m(\u001b[38;5;124mf\u001b[39m\u001b[38;5;124m\"\u001b[39m\u001b[38;5;124mindex \u001b[39m\u001b[38;5;132;01m{\u001b[39;00mobj\u001b[38;5;132;01m}\u001b[39;00m\u001b[38;5;124m is out of bounds for axis \u001b[39m\u001b[38;5;132;01m{\u001b[39;00maxis\u001b[38;5;132;01m}\u001b[39;00m\u001b[38;5;124m \u001b[39m\u001b[38;5;124m\"\u001b[39m\n\u001b[0;32m   5388\u001b[0m                      \u001b[38;5;124mf\u001b[39m\u001b[38;5;124m\"\u001b[39m\u001b[38;5;124mwith size \u001b[39m\u001b[38;5;132;01m{\u001b[39;00mN\u001b[38;5;132;01m}\u001b[39;00m\u001b[38;5;124m\"\u001b[39m)\n\u001b[0;32m   5389\u001b[0m \u001b[38;5;28;01mif\u001b[39;00m (index \u001b[38;5;241m<\u001b[39m \u001b[38;5;241m0\u001b[39m):\n\u001b[0;32m   5390\u001b[0m     index \u001b[38;5;241m+\u001b[39m\u001b[38;5;241m=\u001b[39m N\n",
      "\u001b[1;31mIndexError\u001b[0m: index 6 is out of bounds for axis 0 with size 5"
     ]
    }
   ],
   "source": [
    "#6\n",
    "\n",
    "df.insert(6,\"fare_category\",['cheap','expensive','expensive','moderate','cheap','very cheap','expensive'])\n",
    "print(df)\n",
    "\n"
   ]
  },
  {
   "cell_type": "code",
   "execution_count": 33,
   "id": "2b439a36",
   "metadata": {},
   "outputs": [
    {
     "name": "stdout",
     "output_type": "stream",
     "text": [
      "       name  age  pclass  ticket no  fare     sex\n",
      "0      jack   20  class3        456     3    male\n",
      "1      rose   19  class1        757    10  female\n",
      "2      mary   33  class1        899    10  female\n",
      "3  fernadas   43  class2        564     5    male\n",
      "4      john   23  class3        333     2    male\n",
      "5     clara   16  class1        123     3  female\n",
      "6     davis   30  class2        432    10    male\n",
      "      sex\n",
      "0    male\n",
      "1  female\n",
      "2  female\n",
      "3    male\n",
      "4    male\n",
      "5  female\n",
      "6    male\n"
     ]
    }
   ],
   "source": [
    "#7\n",
    "\n",
    "data = {\n",
    "    'name':['jack','rose','mary','fernadas','john','clara','davis'],\n",
    "    'age':[20,19,33,43,23,16,30],\n",
    "    'pclass' :['class3','class1','class1','class2','class3','class1','class2'],\n",
    "    'ticket no' :[456,757,899,564,333,123,432],\n",
    "    'fare' :[3,10,10,5,2,3,10],\n",
    "    'sex' :['male','female','female','male','male','female','male']\n",
    "}\n",
    "df = pd.DataFrame(data)\n",
    "print(df)\n",
    "df1 = pd.DataFrame(data['sex'], columns=['sex'])\n",
    "print(df1)"
   ]
  },
  {
   "cell_type": "code",
   "execution_count": 3,
   "id": "2b3576f8",
   "metadata": {},
   "outputs": [
    {
     "name": "stdout",
     "output_type": "stream",
     "text": [
      "       name  age  pclass  cabin  fare     sex\n",
      "0      jack   20  class3    456     3    male\n",
      "1      rose   19  class1    757    10  female\n",
      "2      mary   33  class1    899    10  female\n",
      "3  fernadas   43  class2    564     5    male\n",
      "4      john   23  class3    333     2    male\n",
      "5     clara   16  class1    123     3  female\n",
      "6     davis   30  class2    432    10    male\n",
      "       name  age  pclass  fare     sex\n",
      "0      jack   20  class3     3    male\n",
      "1      rose   19  class1    10  female\n",
      "2      mary   33  class1    10  female\n",
      "3  fernadas   43  class2     5    male\n",
      "4      john   23  class3     2    male\n",
      "5     clara   16  class1     3  female\n",
      "6     davis   30  class2    10    male\n"
     ]
    }
   ],
   "source": [
    "#8\n",
    "import pandas as pd\n",
    "\n",
    "data = {\n",
    "    'name':['jack','rose','mary','fernadas','john','clara','davis'],\n",
    "    'age':[20,19,33,43,23,16,30],\n",
    "    'pclass' :['class3','class1','class1','class2','class3','class1','class2'],\n",
    "    'cabin' :[456,757,899,564,333,123,432],\n",
    "    'fare' :[3,10,10,5,2,3,10],\n",
    "    'sex' :['male','female','female','male','male','female','male']\n",
    "}\n",
    "df = pd.DataFrame(data)\n",
    "print(df)\n",
    "df.drop(columns = ['cabin'], inplace=True)\n",
    "print(df)"
   ]
  },
  {
   "cell_type": "code",
   "execution_count": null,
   "id": "dfe9a61e",
   "metadata": {},
   "outputs": [],
   "source": []
  }
 ],
 "metadata": {
  "kernelspec": {
   "display_name": "Python 3 (ipykernel)",
   "language": "python",
   "name": "python3"
  },
  "language_info": {
   "codemirror_mode": {
    "name": "ipython",
    "version": 3
   },
   "file_extension": ".py",
   "mimetype": "text/x-python",
   "name": "python",
   "nbconvert_exporter": "python",
   "pygments_lexer": "ipython3",
   "version": "3.11.5"
  }
 },
 "nbformat": 4,
 "nbformat_minor": 5
}
