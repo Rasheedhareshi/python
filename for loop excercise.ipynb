{
 "cells": [
  {
   "cell_type": "code",
   "execution_count": 4,
   "id": "de278b7a",
   "metadata": {},
   "outputs": [
    {
     "name": "stdout",
     "output_type": "stream",
     "text": [
      "10 (4, 6)\n"
     ]
    }
   ],
   "source": [
    "#1\n",
    "\n",
    "arr = [2,4,5,6,7,9,10]\n",
    "sum = 10\n",
    "n = len(arr)\n",
    "for i in range(0,n):\n",
    "    for j in range(i+1,n):\n",
    "        if arr[i] + arr[j] ==sum:\n",
    "            print(sum,(arr[i],arr[j])) \n"
   ]
  },
  {
   "cell_type": "code",
   "execution_count": 7,
   "id": "5f0e7507",
   "metadata": {},
   "outputs": [
    {
     "name": "stdout",
     "output_type": "stream",
     "text": [
      "meadian is: 8\n"
     ]
    }
   ],
   "source": [
    "#2 question\n",
    "\n",
    "list = [4,6,7,8,9]\n",
    "n = len(list)\n",
    "for i in range(0,n):\n",
    "    if n % 2 == 0:\n",
    "        mid = n // 2\n",
    "        result = (list[mid] + list[mid-1])/2\n",
    "    else:\n",
    "        result = list[mid]\n",
    "print(\"meadian is:\",result)"
   ]
  },
  {
   "cell_type": "code",
   "execution_count": 14,
   "id": "7fc77ff8",
   "metadata": {},
   "outputs": [
    {
     "name": "stdout",
     "output_type": "stream",
     "text": [
      "longest increasing subseguence: 4\n"
     ]
    }
   ],
   "source": [
    "arr = [1,2,3,5,4]\n",
    "i = 0\n",
    "n = len(arr)\n",
    "lis = [1] * n\n",
    "\n",
    "for i in range(1,n):\n",
    "    for j in range(0,n):\n",
    "        if arr[i] > arr[j] and lis[i] < lis[j] + 1:\n",
    "            lis[i] = lis[j] + 1\n",
    "\n",
    "            \n",
    "longest_length = max(lis)\n",
    "print(\"longest increasing subseguence:\", longest_length)"
   ]
  },
  {
   "cell_type": "code",
   "execution_count": 17,
   "id": "7241a8ee",
   "metadata": {},
   "outputs": [
    {
     "name": "stdout",
     "output_type": "stream",
     "text": [
      "the smallest element in array: 5\n"
     ]
    }
   ],
   "source": [
    "#4\n",
    "arr = [5,8,9,12,21]\n",
    "i = 0\n",
    "n = len(arr)\n",
    "smallest = arr[i]\n",
    "\n",
    "for i in range(0,n):\n",
    "    if arr[i] < smallest:\n",
    "        smallest == arr[i]\n",
    "        \n",
    "print(\"the smallest element in array:\",smallest)    \n",
    "\n"
   ]
  },
  {
   "cell_type": "code",
   "execution_count": 25,
   "id": "11f87651",
   "metadata": {},
   "outputs": [
    {
     "name": "stdout",
     "output_type": "stream",
     "text": [
      "largest square is: 36\n"
     ]
    }
   ],
   "source": [
    "#7\n",
    "\n",
    "list = [3,6,4]    \n",
    "i = 0\n",
    "n = len(list)\n",
    "largest_square = int()\n",
    "\n",
    "\n",
    "for i in range(0,n):\n",
    "    square = list[i] * list[i]\n",
    "    if square > largest_square:\n",
    "        largest_square = square\n",
    "    \n",
    "print(\"largest square is:\",largest_square)"
   ]
  },
  {
   "cell_type": "code",
   "execution_count": 30,
   "id": "34f29a5a",
   "metadata": {},
   "outputs": [
    {
     "ename": "TypeError",
     "evalue": "'int' object is not callable",
     "output_type": "error",
     "traceback": [
      "\u001b[1;31m---------------------------------------------------------------------------\u001b[0m",
      "\u001b[1;31mTypeError\u001b[0m                                 Traceback (most recent call last)",
      "Cell \u001b[1;32mIn[30], line 9\u001b[0m\n\u001b[0;32m      5\u001b[0m largest_sum \u001b[38;5;241m=\u001b[39m \u001b[38;5;28mfloat\u001b[39m()\n\u001b[0;32m      8\u001b[0m \u001b[38;5;28;01mfor\u001b[39;00m sublist \u001b[38;5;129;01min\u001b[39;00m \u001b[38;5;28mlist\u001b[39m:\n\u001b[1;32m----> 9\u001b[0m     sublist_sum\u001b[38;5;241m=\u001b[39m \u001b[38;5;28msum\u001b[39m(sublist)\n\u001b[0;32m     10\u001b[0m     \u001b[38;5;28;01mif\u001b[39;00m sublist_sum \u001b[38;5;241m>\u001b[39m largest_sum:\n\u001b[0;32m     11\u001b[0m         largest_sum \u001b[38;5;241m=\u001b[39m sublist_sum\n",
      "\u001b[1;31mTypeError\u001b[0m: 'int' object is not callable"
     ]
    }
   ],
   "source": [
    "#8\n",
    "\n",
    "\n",
    "list = [[3,6,4],[6,7,8]]    \n",
    "largest_sum = int()\n",
    "\n",
    "\n",
    "for sublist in list:\n",
    "    sublist_sum= sum(sublist)\n",
    "    if sublist_sum > largest_sum:\n",
    "        largest_sum = sublist_sum\n",
    "    \n",
    "print(\"largest sum is:\",largest_sum)"
   ]
  },
  {
   "cell_type": "code",
   "execution_count": 34,
   "id": "c6b4b168",
   "metadata": {},
   "outputs": [
    {
     "name": "stdout",
     "output_type": "stream",
     "text": [
      "common elements are: [2, 5]\n"
     ]
    }
   ],
   "source": [
    "#9\n",
    "\n",
    "arr1 = [1,2,3,4,5]\n",
    "arr2 = [5,6,7,8,2]\n",
    "common_element = []\n",
    "\n",
    "for item in arr1:\n",
    "    if item in arr2:\n",
    "        common_element.append(item)\n",
    "print(\"common elements are:\", common_element)    "
   ]
  },
  {
   "cell_type": "code",
   "execution_count": null,
   "id": "84a03625",
   "metadata": {},
   "outputs": [],
   "source": []
  }
 ],
 "metadata": {
  "kernelspec": {
   "display_name": "Python 3 (ipykernel)",
   "language": "python",
   "name": "python3"
  },
  "language_info": {
   "codemirror_mode": {
    "name": "ipython",
    "version": 3
   },
   "file_extension": ".py",
   "mimetype": "text/x-python",
   "name": "python",
   "nbconvert_exporter": "python",
   "pygments_lexer": "ipython3",
   "version": "3.11.5"
  }
 },
 "nbformat": 4,
 "nbformat_minor": 5
}
