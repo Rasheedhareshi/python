{
 "cells": [
  {
   "cell_type": "code",
   "execution_count": 4,
   "id": "5e4b6adb",
   "metadata": {},
   "outputs": [
    {
     "name": "stdout",
     "output_type": "stream",
     "text": [
      "7 * 1 = 7\n",
      "7 * 2 = 14\n",
      "7 * 3 = 21\n",
      "7 * 4 = 28\n",
      "7 * 5 = 35\n",
      "7 * 6 = 42\n",
      "7 * 7 = 49\n"
     ]
    }
   ],
   "source": [
    "i = 1\n",
    "n = 7\n",
    "\n",
    "while i < 11:\n",
    "    multiple = n * i\n",
    "    print(\"%d * %d = %d\" %(n,i,multiple))\n",
    "    i = i+1 \n",
    "    if i>7:\n",
    "        break"
   ]
  },
  {
   "cell_type": "code",
   "execution_count": 6,
   "id": "ac8db168",
   "metadata": {},
   "outputs": [
    {
     "name": "stdout",
     "output_type": "stream",
     "text": [
      "sum of numbers: 1\n",
      "sum of numbers: 3\n",
      "sum of numbers: 6\n",
      "sum of numbers: 10\n",
      "sum of numbers: 15\n"
     ]
    }
   ],
   "source": [
    "#2 question\n",
    "n = [1, 2, 3, 4, 5]\n",
    "total = 0\n",
    "i = 0\n",
    "\n",
    "\n",
    "while i < len(n):\n",
    "    total = total + n[i]\n",
    "    i = i + 1\n",
    "    print(\"sum of numbers:\", total)"
   ]
  },
  {
   "cell_type": "code",
   "execution_count": 10,
   "id": "4ae65b63",
   "metadata": {},
   "outputs": [
    {
     "name": "stdout",
     "output_type": "stream",
     "text": [
      "the positive numbers are: [7, 3, 6, 4]\n",
      "the negetive numbers are: [-6, -2, -9, -1]\n"
     ]
    }
   ],
   "source": [
    "#3\n",
    "positive_num = []\n",
    "negetive_num = []\n",
    "\n",
    "i = 0\n",
    "numbers = [-6,7,3,-2,-9,6,4,-1]\n",
    "while i < len(numbers):\n",
    "    if numbers[i] > 0:\n",
    "        positive_num.append(numbers[i])\n",
    "    else:\n",
    "        negetive_num.append(numbers[i])\n",
    "    i = i+1\n",
    "    \n",
    "print(\"the positive numbers are:\",positive_num)\n",
    "print(\"the negetive numbers are:\",negetive_num)"
   ]
  },
  {
   "cell_type": "code",
   "execution_count": 11,
   "id": "4449da35",
   "metadata": {},
   "outputs": [
    {
     "name": "stdout",
     "output_type": "stream",
     "text": [
      "1\n",
      "4\n",
      "9\n",
      "16\n",
      "25\n"
     ]
    }
   ],
   "source": [
    "#4\n",
    "list = [1,2,3,4,5]\n",
    "i = 0\n",
    "square = 0\n",
    "while i < len(list):\n",
    "    square = list[i] * list[i]\n",
    "    i = i + 1\n",
    "    print(square)"
   ]
  },
  {
   "cell_type": "code",
   "execution_count": 13,
   "id": "77e13567",
   "metadata": {},
   "outputs": [
    {
     "name": "stdout",
     "output_type": "stream",
     "text": [
      "enter the wordwings to dream\n",
      "wmaerd ot sgniw\n"
     ]
    }
   ],
   "source": [
    "#5\n",
    "word = input(\"enter the word\")\n",
    "length = len(word)\n",
    "while length > 0:\n",
    "    reverse += word[length-1]\n",
    "    length = length-1\n",
    "print(reverse)    "
   ]
  },
  {
   "cell_type": "code",
   "execution_count": 28,
   "id": "1bd64b80",
   "metadata": {},
   "outputs": [
    {
     "name": "stdout",
     "output_type": "stream",
     "text": [
      "even numbers are: [1, 4, 5, 7, 9, 10, 12]\n",
      "odd numbers are: [1, 4, 5, 7, 9, 10, 12]\n"
     ]
    }
   ],
   "source": [
    "#6\n",
    "list1 = [1,4,5,7,9,10,12]\n",
    "i = 0\n",
    "while i > n:\n",
    "    if (list1 % 2 == 0):\n",
    "        print(\"is even number\",list1[i])\n",
    "    else:\n",
    "        print(\"is odd number\",list1[i])\n",
    "i = i + 1\n",
    "print(\"even numbers are:\",list1)    \n",
    "print(\"odd numbers are:\",list1)   "
   ]
  },
  {
   "cell_type": "code",
   "execution_count": null,
   "id": "b634fa00",
   "metadata": {},
   "outputs": [],
   "source": [
    "#9\n",
    "\n",
    "i = 1\n",
    "n = 5\n",
    "\n",
    "while i < 11:\n",
    "    multiple = n * i\n",
    "    print(\"%d * %d = %d\" %(n,i,multiple))\n",
    "    i = i+1 \n",
    "    if i>5:\n",
    "        break"
   ]
  },
  {
   "cell_type": "code",
   "execution_count": null,
   "id": "d546e939",
   "metadata": {},
   "outputs": [],
   "source": [
    "#16\n",
    "\n",
    "number = int(input(\"enter a number:\"))\n",
    "\n",
    "count = 0\n",
    "while number > 0:\n",
    "    count += 1\n",
    "print(count)    "
   ]
  },
  {
   "cell_type": "code",
   "execution_count": null,
   "id": "aca854ba",
   "metadata": {},
   "outputs": [],
   "source": [
    "#15\n",
    "\n",
    "stars = input(\"enter the number\")\n",
    "row = 1\n",
    "\n",
    "while row <= stars:\n",
    "    print('*' * row)\n",
    "    row = row + 1"
   ]
  },
  {
   "cell_type": "code",
   "execution_count": null,
   "id": "8ed9012e",
   "metadata": {},
   "outputs": [],
   "source": [
    "#14\n",
    "\n",
    "\n",
    "list = [5,9,2,13,63]\n",
    "i = 0\n",
    "\n",
    "while i >= 0:\n",
    "    max_value = list[i]\n",
    "    i = i + 1\n",
    "    print(\"largest value:\", max_value)"
   ]
  },
  {
   "cell_type": "code",
   "execution_count": null,
   "id": "25b760b8",
   "metadata": {},
   "outputs": [],
   "source": [
    "#13 \n",
    "\n",
    "num1 = int(input(\"enter a number\"))\n",
    "num2 = int(input(\"enter a number\"))\n",
    "\n",
    "while num1 < num2:\n",
    "    num1 = num1 % num2\n",
    "else:\n",
    "    num1 = num1 % num2\n",
    "    print(\"gcd:\" , num1)\n",
    "     "
   ]
  },
  {
   "cell_type": "code",
   "execution_count": null,
   "id": "1efa30ef",
   "metadata": {},
   "outputs": [],
   "source": []
  }
 ],
 "metadata": {
  "kernelspec": {
   "display_name": "Python 3 (ipykernel)",
   "language": "python",
   "name": "python3"
  },
  "language_info": {
   "codemirror_mode": {
    "name": "ipython",
    "version": 3
   },
   "file_extension": ".py",
   "mimetype": "text/x-python",
   "name": "python",
   "nbconvert_exporter": "python",
   "pygments_lexer": "ipython3",
   "version": "3.11.5"
  }
 },
 "nbformat": 4,
 "nbformat_minor": 5
}
