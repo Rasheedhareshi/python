{
 "cells": [
  {
   "cell_type": "code",
   "execution_count": 6,
   "id": "129e6413",
   "metadata": {},
   "outputs": [
    {
     "name": "stdout",
     "output_type": "stream",
     "text": [
      "max value is: 7\n",
      "min value is: 1\n"
     ]
    }
   ],
   "source": [
    "#1-question\n",
    "x = (1,6,2,7)\n",
    "y = max(x)\n",
    "z = min(x)\n",
    "print(\"max value is:\", y)\n",
    "print(\"min value is:\", z)"
   ]
  },
  {
   "cell_type": "code",
   "execution_count": 9,
   "id": "8a10e8b1",
   "metadata": {},
   "outputs": [
    {
     "name": "stdout",
     "output_type": "stream",
     "text": [
      "('rashi', 'ilyas', 'razu', 'izza')\n"
     ]
    }
   ],
   "source": [
    "\n",
    "#2 question\n",
    "my_tuple = (\"rashi\", \"ilyas\", \"razu\")\n",
    "y = list(my_tuple)\n",
    "y.append(\"izza\")\n",
    "my_tuple = tuple(y)\n",
    "print(my_tuple)"
   ]
  },
  {
   "cell_type": "code",
   "execution_count": 14,
   "id": "45f20795",
   "metadata": {},
   "outputs": [
    {
     "name": "stdout",
     "output_type": "stream",
     "text": [
      "(('h', 1), ('o', 2), ('w', 1), (' ', 2), ('a', 1), ('r', 1), ('e', 1), ('y', 1), ('u', 1))\n"
     ]
    }
   ],
   "source": [
    "#3 question\n",
    "\n",
    "my_tuple = (\"how are you\")\n",
    "y = {}\n",
    "for char in my_tuple:\n",
    "    y[char] = my_tuple.count(char)\n",
    "my_tuple = tuple(y.items())\n",
    "print(my_tuple)"
   ]
  },
  {
   "cell_type": "code",
   "execution_count": 18,
   "id": "3018e888",
   "metadata": {},
   "outputs": [
    {
     "name": "stdout",
     "output_type": "stream",
     "text": [
      "{1: 'apple', 2: 'cherry', 3: 'banana'}\n"
     ]
    }
   ],
   "source": [
    "#4 question\n",
    "my_tuple = [(1,\"apple\"), (2,\"cherry\"), (3,\"banana\")]\n",
    "dict1 = dict(my_tuple)\n",
    "print(dict1)\n"
   ]
  },
  {
   "cell_type": "code",
   "execution_count": 20,
   "id": "d32a5e68",
   "metadata": {},
   "outputs": [
    {
     "name": "stdout",
     "output_type": "stream",
     "text": [
      "[(1, 2, 3), (4, 5, 6), (7,)]\n"
     ]
    }
   ],
   "source": [
    "#5 question\n",
    "\n",
    "def slice_tuple(tuple_to_slice, size):\n",
    "    num_sub_tuples = len(tuple_to_slice) // size\n",
    "    sub_tuples = []\n",
    "    for i in range(num_sub_tuples):\n",
    "        sub_tuples.append(tuple_to_slice[i * size : (i + 1) * size])\n",
    "    if len(tuple_to_slice) % size != 0:\n",
    "        sub_tuples.append(tuple_to_slice[num_sub_tuples * size:])\n",
    "    return sub_tuples\n",
    "\n",
    "my_tuple = (1, 2, 3, 4, 5, 6, 7)\n",
    "result = slice_tuple(my_tuple, 3)\n",
    "print(result)\n"
   ]
  },
  {
   "cell_type": "code",
   "execution_count": 21,
   "id": "b043fd7f",
   "metadata": {},
   "outputs": [
    {
     "name": "stdout",
     "output_type": "stream",
     "text": [
      "[[1, 2], [4, 5, 6]]\n"
     ]
    }
   ],
   "source": [
    "#6- question\n",
    "nested_tuple = [[1,2],[4,5,6]]\n",
    "print(nested_tuple)\n"
   ]
  },
  {
   "cell_type": "code",
   "execution_count": 22,
   "id": "ec9e0016",
   "metadata": {},
   "outputs": [
    {
     "name": "stdout",
     "output_type": "stream",
     "text": [
      "[1, 2, 3, 5]\n"
     ]
    }
   ],
   "source": [
    "\n",
    "#7 question.\n",
    "\n",
    "my_tuple = [1,2,3,4,5]\n",
    "my_tuple.remove(4)\n",
    "print(my_tuple)"
   ]
  },
  {
   "cell_type": "code",
   "execution_count": 30,
   "id": "78d6e847",
   "metadata": {},
   "outputs": [
    {
     "name": "stdout",
     "output_type": "stream",
     "text": [
      "['A', 'B', 'C', 'D', 'E', 'F', 'd']\n",
      "['A', 'B', 'C', 'D', 'E', 'F']\n"
     ]
    }
   ],
   "source": [
    "#8 question.\n",
    "tuple1 = ['A', 'B', 'C']\n",
    "tuple2 = ['D', 'E', 'F', 'd']\n",
    "y = tuple1 + tuple2\n",
    "print(y)\n",
    "y.remove(\"d\")\n",
    "print(y)"
   ]
  },
  {
   "cell_type": "code",
   "execution_count": 33,
   "id": "673b8f05",
   "metadata": {},
   "outputs": [
    {
     "ename": "TypeError",
     "evalue": "can't multiply sequence by non-int of type 'list'",
     "output_type": "error",
     "traceback": [
      "\u001b[1;31m---------------------------------------------------------------------------\u001b[0m",
      "\u001b[1;31mTypeError\u001b[0m                                 Traceback (most recent call last)",
      "Cell \u001b[1;32mIn[33], line 4\u001b[0m\n\u001b[0;32m      1\u001b[0m \u001b[38;5;66;03m#9 question.\u001b[39;00m\n\u001b[0;32m      3\u001b[0m fruits \u001b[38;5;241m=\u001b[39m [\u001b[38;5;124m\"\u001b[39m\u001b[38;5;124ma\u001b[39m\u001b[38;5;124m\"\u001b[39m, \u001b[38;5;124m\"\u001b[39m\u001b[38;5;124mb\u001b[39m\u001b[38;5;124m\"\u001b[39m, \u001b[38;5;124m\"\u001b[39m\u001b[38;5;124mc\u001b[39m\u001b[38;5;124m\"\u001b[39m, \u001b[38;5;124m\"\u001b[39m\u001b[38;5;124md\u001b[39m\u001b[38;5;124m\"\u001b[39m, \u001b[38;5;124m\"\u001b[39m\u001b[38;5;124me\u001b[39m\u001b[38;5;124m\"\u001b[39m, \u001b[38;5;124m\"\u001b[39m\u001b[38;5;124mf\u001b[39m\u001b[38;5;124m\"\u001b[39m]\n\u001b[1;32m----> 4\u001b[0m fruits \u001b[38;5;241m=\u001b[39m x\u001b[38;5;241m*\u001b[39my,z\n\u001b[0;32m      5\u001b[0m \u001b[38;5;28mprint\u001b[39m(x)\n\u001b[0;32m      6\u001b[0m \u001b[38;5;28mprint\u001b[39m(y)\n",
      "\u001b[1;31mTypeError\u001b[0m: can't multiply sequence by non-int of type 'list'"
     ]
    }
   ],
   "source": [
    "#9 question.\n",
    "\n",
    "fruits = [\"a\", \"b\", \"c\", \"d\", \"e\", \"f\"]\n",
    "fruits = x*y,z\n",
    "print(x)\n",
    "print(y)\n",
    "print(z)\n"
   ]
  },
  {
   "cell_type": "code",
   "execution_count": 34,
   "id": "63127aaa",
   "metadata": {},
   "outputs": [
    {
     "name": "stdout",
     "output_type": "stream",
     "text": [
      "The index of the first occurrence of 2 is: 1\n"
     ]
    }
   ],
   "source": [
    "#10\n",
    "\n",
    "def find_first_occurrence_index(my_tuple, element):\n",
    "    try:\n",
    "        index = my_tuple.index(element)\n",
    "        return index\n",
    "    except ValueError:\n",
    "        return -1  \n",
    "\n",
    "my_tuple = (1, 2, 3, 4, 2, 5)\n",
    "element_to_find = 2\n",
    "first_occurrence_index = find_first_occurrence_index(my_tuple, element_to_find)\n",
    "if first_occurrence_index != -1:\n",
    "    print(f\"The index of the first occurrence of {element_to_find} is: {first_occurrence_index}\")\n",
    "else:\n",
    "    print(f\"{element_to_find} is not found in the tuple.\")\n"
   ]
  },
  {
   "cell_type": "code",
   "execution_count": null,
   "id": "ea2c398d",
   "metadata": {},
   "outputs": [],
   "source": []
  }
 ],
 "metadata": {
  "kernelspec": {
   "display_name": "Python 3 (ipykernel)",
   "language": "python",
   "name": "python3"
  },
  "language_info": {
   "codemirror_mode": {
    "name": "ipython",
    "version": 3
   },
   "file_extension": ".py",
   "mimetype": "text/x-python",
   "name": "python",
   "nbconvert_exporter": "python",
   "pygments_lexer": "ipython3",
   "version": "3.11.5"
  }
 },
 "nbformat": 4,
 "nbformat_minor": 5
}
