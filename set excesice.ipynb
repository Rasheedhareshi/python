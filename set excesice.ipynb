{
 "cells": [
  {
   "cell_type": "code",
   "execution_count": 1,
   "id": "2c0dc80c",
   "metadata": {},
   "outputs": [
    {
     "name": "stdout",
     "output_type": "stream",
     "text": [
      "{2}\n"
     ]
    }
   ],
   "source": [
    "#1 question\n",
    "\n",
    "set1 = {1, 2, 5 ,6}\n",
    "set2 = {2, 4, 7, 8}\n",
    "intersection_set = set1.intersection(set2)\n",
    "print(intersection_set)"
   ]
  },
  {
   "cell_type": "code",
   "execution_count": 8,
   "id": "617a389f",
   "metadata": {},
   "outputs": [
    {
     "name": "stdout",
     "output_type": "stream",
     "text": [
      "{1, 5, 6}\n"
     ]
    }
   ],
   "source": [
    "#2 question\n",
    "\n",
    "set1 = {1, 2, 5 ,6}\n",
    "set2 = {2, 4, 7, 8}\n",
    "difference = set1.difference(set2)\n",
    "print(difference)"
   ]
  },
  {
   "cell_type": "code",
   "execution_count": 9,
   "id": "6dd51a9c",
   "metadata": {},
   "outputs": [
    {
     "name": "stdout",
     "output_type": "stream",
     "text": [
      "{1, 4, 5, 6, 7, 8}\n"
     ]
    }
   ],
   "source": [
    "#3question\n",
    "\n",
    "set1 = {1, 2, 5 ,6}\n",
    "set2 = {2, 4, 7, 8}\n",
    "symmetric_difference_set = set1.symmetric_difference(set2)\n",
    "print(symmetric_difference_set)"
   ]
  },
  {
   "cell_type": "code",
   "execution_count": 12,
   "id": "de51bc6b",
   "metadata": {},
   "outputs": [
    {
     "name": "stdout",
     "output_type": "stream",
     "text": [
      "{'cherry', 'apple', 'banana'}\n"
     ]
    }
   ],
   "source": [
    "#4 question\n",
    "\n",
    "set1 = {\"apple\", \"cherry\", \"banana\",\"BANANA\"}\n",
    "set1.remove(\"BANANA\")\n",
    "print(set1)"
   ]
  },
  {
   "cell_type": "code",
   "execution_count": 13,
   "id": "de359920",
   "metadata": {},
   "outputs": [
    {
     "name": "stdout",
     "output_type": "stream",
     "text": [
      "{2, 3, 4, 5, 7, 9, 10}\n"
     ]
    }
   ],
   "source": [
    "#5 question\n",
    "\n",
    "set1 = {3, 4, 7, 9}\n",
    "set2 = {2,5,7,10}\n",
    "union_set = set1.union(set2)\n",
    "print(union_set)"
   ]
  },
  {
   "cell_type": "code",
   "execution_count": 14,
   "id": "1938a6a2",
   "metadata": {},
   "outputs": [
    {
     "name": "stdout",
     "output_type": "stream",
     "text": [
      "set2 subset of set1\n"
     ]
    }
   ],
   "source": [
    "#6 question\n",
    "\n",
    "set1 = {3, 5, 7, 20, 46}\n",
    "set2 = {5, 46, 7}\n",
    "\n",
    "is_subset = set2.issubset(set1)\n",
    "\n",
    "if is_subset:\n",
    "    print(\"set2 subset of set1\")\n",
    "else:\n",
    "    print(\"set2 not a subset of set1\")\n"
   ]
  },
  {
   "cell_type": "code",
   "execution_count": 17,
   "id": "042e5845",
   "metadata": {},
   "outputs": [
    {
     "name": "stdout",
     "output_type": "stream",
     "text": [
      "maximum value is: 45\n",
      "minimum value is: 7\n"
     ]
    }
   ],
   "source": [
    "#7question\n",
    "\n",
    "set1 = {23, 45, 10, 34,7}\n",
    "max_element = max(set1)\n",
    "print(\"maximum value is:\", max_element)\n",
    "min_element = min(set1)\n",
    "print(\"minimum value is:\", min_element)"
   ]
  },
  {
   "cell_type": "code",
   "execution_count": 26,
   "id": "fdfa06db",
   "metadata": {},
   "outputs": [
    {
     "name": "stdout",
     "output_type": "stream",
     "text": [
      "set()\n"
     ]
    }
   ],
   "source": [
    "#8 question\n",
    "\n",
    "set1 = {\"apple\", \"cherry\", \"banana\"}\n",
    "set1.clear()\n",
    "print(set1)\n"
   ]
  },
  {
   "cell_type": "code",
   "execution_count": 27,
   "id": "dfc863e8",
   "metadata": {},
   "outputs": [
    {
     "name": "stdout",
     "output_type": "stream",
     "text": [
      "{'fidha', 'sharki', 'sahla', 'hasna', 'nasiya', 'lulu'}\n"
     ]
    }
   ],
   "source": [
    "set3 = {\"fidha\", \"lulu\", \"sharki\"}\n",
    "set4 = {\"sahla\", \"hasna\", \"nasiya\"}\n",
    "set3.update(set4)\n",
    "print(set3)"
   ]
  },
  {
   "cell_type": "code",
   "execution_count": 28,
   "id": "6a848587",
   "metadata": {},
   "outputs": [
    {
     "name": "stdout",
     "output_type": "stream",
     "text": [
      "sum of all elements in a set: 32\n"
     ]
    }
   ],
   "source": [
    "set1 = {5, 7, 8, 12}\n",
    "sum_element = sum(set1)\n",
    "print(\"sum of all elements in a set:\", sum_element)"
   ]
  },
  {
   "cell_type": "code",
   "execution_count": null,
   "id": "a3fa22fe",
   "metadata": {},
   "outputs": [],
   "source": []
  }
 ],
 "metadata": {
  "kernelspec": {
   "display_name": "Python 3 (ipykernel)",
   "language": "python",
   "name": "python3"
  },
  "language_info": {
   "codemirror_mode": {
    "name": "ipython",
    "version": 3
   },
   "file_extension": ".py",
   "mimetype": "text/x-python",
   "name": "python",
   "nbconvert_exporter": "python",
   "pygments_lexer": "ipython3",
   "version": "3.11.5"
  }
 },
 "nbformat": 4,
 "nbformat_minor": 5
}
