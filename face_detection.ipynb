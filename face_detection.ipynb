{
 "cells": [
  {
   "cell_type": "code",
   "execution_count": 18,
   "id": "65922b12",
   "metadata": {},
   "outputs": [
    {
     "name": "stdout",
     "output_type": "stream",
     "text": [
      "Requirement already satisfied: mediapipe in c:\\users\\rashe\\appdata\\roaming\\python\\python311\\site-packages (0.10.14)\n",
      "Requirement already satisfied: absl-py in c:\\users\\rashe\\documents\\python scripts\\lib\\site-packages (from mediapipe) (2.1.0)\n",
      "Requirement already satisfied: attrs>=19.1.0 in c:\\users\\rashe\\documents\\python scripts\\lib\\site-packages (from mediapipe) (22.1.0)\n",
      "Requirement already satisfied: flatbuffers>=2.0 in c:\\users\\rashe\\documents\\python scripts\\lib\\site-packages (from mediapipe) (24.3.25)\n",
      "Requirement already satisfied: jax in c:\\users\\rashe\\appdata\\roaming\\python\\python311\\site-packages (from mediapipe) (0.4.30)\n",
      "Requirement already satisfied: jaxlib in c:\\users\\rashe\\appdata\\roaming\\python\\python311\\site-packages (from mediapipe) (0.4.30)\n",
      "Requirement already satisfied: matplotlib in c:\\users\\rashe\\documents\\python scripts\\lib\\site-packages (from mediapipe) (3.7.2)\n",
      "Requirement already satisfied: numpy in c:\\users\\rashe\\documents\\python scripts\\lib\\site-packages (from mediapipe) (1.24.3)\n",
      "Requirement already satisfied: opencv-contrib-python in c:\\users\\rashe\\appdata\\roaming\\python\\python311\\site-packages (from mediapipe) (4.10.0.84)\n",
      "Requirement already satisfied: protobuf<5,>=4.25.3 in c:\\users\\rashe\\documents\\python scripts\\lib\\site-packages (from mediapipe) (4.25.3)\n",
      "Requirement already satisfied: sounddevice>=0.4.4 in c:\\users\\rashe\\appdata\\roaming\\python\\python311\\site-packages (from mediapipe) (0.4.7)\n",
      "Requirement already satisfied: CFFI>=1.0 in c:\\users\\rashe\\documents\\python scripts\\lib\\site-packages (from sounddevice>=0.4.4->mediapipe) (1.15.1)\n",
      "Requirement already satisfied: ml-dtypes>=0.2.0 in c:\\users\\rashe\\documents\\python scripts\\lib\\site-packages (from jax->mediapipe) (0.3.2)\n",
      "Requirement already satisfied: opt-einsum in c:\\users\\rashe\\documents\\python scripts\\lib\\site-packages (from jax->mediapipe) (3.3.0)\n",
      "Requirement already satisfied: scipy>=1.9 in c:\\users\\rashe\\documents\\python scripts\\lib\\site-packages (from jax->mediapipe) (1.11.1)\n",
      "Requirement already satisfied: contourpy>=1.0.1 in c:\\users\\rashe\\documents\\python scripts\\lib\\site-packages (from matplotlib->mediapipe) (1.0.5)\n",
      "Requirement already satisfied: cycler>=0.10 in c:\\users\\rashe\\documents\\python scripts\\lib\\site-packages (from matplotlib->mediapipe) (0.11.0)\n",
      "Requirement already satisfied: fonttools>=4.22.0 in c:\\users\\rashe\\documents\\python scripts\\lib\\site-packages (from matplotlib->mediapipe) (4.25.0)\n",
      "Requirement already satisfied: kiwisolver>=1.0.1 in c:\\users\\rashe\\documents\\python scripts\\lib\\site-packages (from matplotlib->mediapipe) (1.4.4)\n",
      "Requirement already satisfied: packaging>=20.0 in c:\\users\\rashe\\documents\\python scripts\\lib\\site-packages (from matplotlib->mediapipe) (23.1)\n",
      "Requirement already satisfied: pillow>=6.2.0 in c:\\users\\rashe\\documents\\python scripts\\lib\\site-packages (from matplotlib->mediapipe) (9.4.0)\n",
      "Requirement already satisfied: pyparsing<3.1,>=2.3.1 in c:\\users\\rashe\\documents\\python scripts\\lib\\site-packages (from matplotlib->mediapipe) (3.0.9)\n",
      "Requirement already satisfied: python-dateutil>=2.7 in c:\\users\\rashe\\documents\\python scripts\\lib\\site-packages (from matplotlib->mediapipe) (2.8.2)\n",
      "Requirement already satisfied: pycparser in c:\\users\\rashe\\documents\\python scripts\\lib\\site-packages (from CFFI>=1.0->sounddevice>=0.4.4->mediapipe) (2.21)\n",
      "Requirement already satisfied: six>=1.5 in c:\\users\\rashe\\documents\\python scripts\\lib\\site-packages (from python-dateutil>=2.7->matplotlib->mediapipe) (1.16.0)\n"
     ]
    }
   ],
   "source": [
    "!pip install mediapipe --user\n"
   ]
  },
  {
   "cell_type": "code",
   "execution_count": 1,
   "id": "dddff9cd",
   "metadata": {},
   "outputs": [],
   "source": [
    "import mediapipe as mp\n",
    "import cv2\n"
   ]
  },
  {
   "cell_type": "markdown",
   "id": "eacaeb94",
   "metadata": {},
   "source": [
    "mediapipe is a open source framework developed by google that offers customizable machine learning pipelines to process media data such as images,audio. it provides a wide range of pre-trained ml models and components to perform various tasks including\n",
    "\n",
    "pose Estimation: detecting and tracking human body poses in images and vedios\n",
    "hand tracking: identifying and tracking hans in images and vedios.\n",
    "object detection: detecting and tracking object in images and vedios.\n",
    "face detection: detecting and tracking faces in images and  vedios.\n",
    "face mesh:estimating facial landmark.\n",
    "holistic:combining multiple component like face detection .pose detection etc"
   ]
  },
  {
   "cell_type": "code",
   "execution_count": 2,
   "id": "26f074c7",
   "metadata": {},
   "outputs": [],
   "source": [
    "mp_facedetection = mp.solutions.face_detection\n",
    "mp_drawings = mp.solutions.drawing_utils"
   ]
  },
  {
   "cell_type": "markdown",
   "id": "fc50aebc",
   "metadata": {},
   "source": [
    "1 st line imports face detection module from mediapipe library and assign it to the variable mp_facedetection.it provides functionalities for detection gaces in imges, vedios.\n",
    "the 2 nd line import dwaing utility module from mediapipe library and assign it to variable mp_drawings. this module contain functions for drawing annotation as bounding boxes or landmark on images or vedio frams."
   ]
  },
  {
   "cell_type": "code",
   "execution_count": 3,
   "id": "79063b71",
   "metadata": {},
   "outputs": [],
   "source": [
    "face_detection = mp_facedetection.FaceDetection()"
   ]
  },
  {
   "cell_type": "markdown",
   "id": "2a8b5616",
   "metadata": {},
   "source": [
    "the face detection class in mediapipe library utilizes a pre-trained machine learning model to detect faces in images or vedios frames. this module has been trained on large datasets of annotated images, allowing  it to learn feature and pattern associated with human faces.creating an instace of the face detection model from mediapipe library."
   ]
  },
  {
   "cell_type": "code",
   "execution_count": null,
   "id": "d0f0dd1f",
   "metadata": {},
   "outputs": [],
   "source": [
    "video = cv2.VideoCapture(0)\n",
    "while True:\n",
    "    suc,img = video.read()\n",
    "    img = cv2.cvtColor(img,cv2.COLOR_BGR2RGB)\n",
    "    result = face_detection.process(img)\n",
    "    if result.detections:\n",
    "        for det in result.detections:\n",
    "            \n",
    "            mp_drawings.draw_detection(img,det)\n",
    "    cv2.imshow('FACE',img)\n",
    "    if cv2.waitKey(1) & 0XFE==ord('q'):\n",
    "        break\n",
    "video.release()\n",
    "cv2.destroyALLWindows()"
   ]
  },
  {
   "cell_type": "code",
   "execution_count": null,
   "id": "c2f679a3",
   "metadata": {},
   "outputs": [],
   "source": []
  }
 ],
 "metadata": {
  "kernelspec": {
   "display_name": "Python 3 (ipykernel)",
   "language": "python",
   "name": "python3"
  },
  "language_info": {
   "codemirror_mode": {
    "name": "ipython",
    "version": 3
   },
   "file_extension": ".py",
   "mimetype": "text/x-python",
   "name": "python",
   "nbconvert_exporter": "python",
   "pygments_lexer": "ipython3",
   "version": "3.11.5"
  }
 },
 "nbformat": 4,
 "nbformat_minor": 5
}
