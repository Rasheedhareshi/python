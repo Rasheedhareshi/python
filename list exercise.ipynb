{
 "cells": [
  {
   "cell_type": "code",
   "execution_count": 1,
   "id": "ba19e0d4",
   "metadata": {},
   "outputs": [
    {
     "name": "stdout",
     "output_type": "stream",
     "text": [
      "sum of the two numbers: 5\n"
     ]
    }
   ],
   "source": [
    "#1. question.\n",
    "x = 2\n",
    "y = 3 \n",
    "result = x+y\n",
    "print(\"sum of the two numbers:\", result)"
   ]
  },
  {
   "cell_type": "code",
   "execution_count": 2,
   "id": "27196083",
   "metadata": {},
   "outputs": [
    {
     "name": "stdout",
     "output_type": "stream",
     "text": [
      "['ghi', 'def', 'abc']\n"
     ]
    }
   ],
   "source": [
    "#2- question.\n",
    "\n",
    "characters = [\"abc\",\"def\",\"ghi\"]\n",
    "characters.sort(reverse=True)\n",
    "print(characters)"
   ]
  },
  {
   "cell_type": "code",
   "execution_count": 13,
   "id": "84e9c1f5",
   "metadata": {},
   "outputs": [
    {
     "name": "stdout",
     "output_type": "stream",
     "text": [
      "['mike', 'emma', 'kelly', '', 'brad']\n"
     ]
    }
   ],
   "source": [
    "#3 -question\n",
    "\n",
    "list1 = [\"mike\",\"\",\"emma\",\"kelly\",\"\",\"brad\"]\n",
    "list1.remove(\"\")\n",
    "print(list1)"
   ]
  },
  {
   "cell_type": "code",
   "execution_count": 8,
   "id": "0ab9a391",
   "metadata": {},
   "outputs": [
    {
     "name": "stdout",
     "output_type": "stream",
     "text": [
      "[10, 20, [300, 400, [5000, 6000], 500], 30, 40, '7000']\n"
     ]
    }
   ],
   "source": [
    "#4-question.\n",
    "list1 = [10,20,[300,400,[5000,6000],500],30,40]\n",
    "list1.append(\"7000\")\n",
    "print(list1)"
   ]
  },
  {
   "cell_type": "code",
   "execution_count": 11,
   "id": "a5500eca",
   "metadata": {},
   "outputs": [
    {
     "name": "stdout",
     "output_type": "stream",
     "text": [
      "[5, 10, 15, 200, 25, 50, 200]\n"
     ]
    }
   ],
   "source": [
    "#5. question.\n",
    "\n",
    "list1 = [5,10,15,200,25,50,20]\n",
    "index_to_replace = list1.index(20)\n",
    "list1[index_to_replace] = 200\n",
    "print(list1)"
   ]
  },
  {
   "cell_type": "code",
   "execution_count": 15,
   "id": "3a4597bc",
   "metadata": {},
   "outputs": [
    {
     "name": "stdout",
     "output_type": "stream",
     "text": [
      "50\n",
      "4\n",
      "160\n"
     ]
    }
   ],
   "source": [
    "#6-question.\n",
    "numbers = [20,50,4,15,48,23]\n",
    "print(max(numbers))\n",
    "print(min(numbers))\n",
    "print(sum(numbers))"
   ]
  },
  {
   "cell_type": "code",
   "execution_count": 17,
   "id": "2ae6dd8e",
   "metadata": {},
   "outputs": [
    {
     "name": "stdout",
     "output_type": "stream",
     "text": [
      "2\n"
     ]
    }
   ],
   "source": [
    "#7 question\n",
    "numbers = [34,16,4,7,100,4,10]\n",
    "count = numbers.count(4)\n",
    "print(count)\n"
   ]
  },
  {
   "cell_type": "code",
   "execution_count": 18,
   "id": "9829517a",
   "metadata": {},
   "outputs": [
    {
     "name": "stdout",
     "output_type": "stream",
     "text": [
      "Enter the position to insert the element: 2\n",
      "Enter the element to insert: 3\n",
      "Updated list: [2, 5, 3, 37, 17, 8]\n"
     ]
    }
   ],
   "source": [
    "#8. question\n",
    "\n",
    "numbers = [2,5,37,17,8]\n",
    "def insert_element(lst, position, element):\n",
    "    lst.insert(position, element)\n",
    "position = int(input(\"Enter the position to insert the element: \"))\n",
    "element = int(input(\"Enter the element to insert: \"))\n",
    "insert_element(numbers, position, element)\n",
    "print(\"Updated list:\", numbers)"
   ]
  },
  {
   "cell_type": "code",
   "execution_count": null,
   "id": "abc8f5e9",
   "metadata": {},
   "outputs": [],
   "source": []
  },
  {
   "cell_type": "code",
   "execution_count": null,
   "id": "cb7ce3af",
   "metadata": {},
   "outputs": [],
   "source": []
  }
 ],
 "metadata": {
  "kernelspec": {
   "display_name": "Python 3 (ipykernel)",
   "language": "python",
   "name": "python3"
  },
  "language_info": {
   "codemirror_mode": {
    "name": "ipython",
    "version": 3
   },
   "file_extension": ".py",
   "mimetype": "text/x-python",
   "name": "python",
   "nbconvert_exporter": "python",
   "pygments_lexer": "ipython3",
   "version": "3.11.5"
  }
 },
 "nbformat": 4,
 "nbformat_minor": 5
}
